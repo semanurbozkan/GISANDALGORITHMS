{
 "cells": [
  {
   "cell_type": "code",
   "execution_count": 1,
   "id": "330bc71d",
   "metadata": {
    "_cell_guid": "b1076dfc-b9ad-4769-8c92-a6c4dae69d19",
    "_uuid": "8f2839f25d086af736a60e9eeb907d3b93b6e0e5",
    "execution": {
     "iopub.execute_input": "2023-01-23T07:42:25.933861Z",
     "iopub.status.busy": "2023-01-23T07:42:25.933279Z",
     "iopub.status.idle": "2023-01-23T07:42:28.497137Z",
     "shell.execute_reply": "2023-01-23T07:42:28.495726Z"
    },
    "papermill": {
     "duration": 2.580364,
     "end_time": "2023-01-23T07:42:28.500658",
     "exception": false,
     "start_time": "2023-01-23T07:42:25.920294",
     "status": "completed"
    },
    "tags": []
   },
   "outputs": [],
   "source": [
    "import numpy as np\n",
    "import pandas as pd\n",
    "import matplotlib.pyplot as plt\n",
    "import seaborn as sns\n",
    "import plotly.express as px\n",
    "from plotly.subplots import make_subplots\n",
    "from datetime import datetime"
   ]
  },
  {
   "cell_type": "code",
   "execution_count": 2,
   "id": "d3d9f22c",
   "metadata": {
    "execution": {
     "iopub.execute_input": "2023-01-23T07:42:28.520789Z",
     "iopub.status.busy": "2023-01-23T07:42:28.520223Z",
     "iopub.status.idle": "2023-01-23T07:42:28.586979Z",
     "shell.execute_reply": "2023-01-23T07:42:28.585802Z"
    },
    "papermill": {
     "duration": 0.080034,
     "end_time": "2023-01-23T07:42:28.589832",
     "exception": false,
     "start_time": "2023-01-23T07:42:28.509798",
     "status": "completed"
    },
    "tags": []
   },
   "outputs": [],
   "source": [
    "covid_df = pd.read_csv('/kaggle/input/covid-19-india/covid_19_india.csv')"
   ]
  },
  {
   "cell_type": "code",
   "execution_count": 3,
   "id": "af8ce25e",
   "metadata": {
    "execution": {
     "iopub.execute_input": "2023-01-23T07:42:28.610139Z",
     "iopub.status.busy": "2023-01-23T07:42:28.608903Z",
     "iopub.status.idle": "2023-01-23T07:42:28.639026Z",
     "shell.execute_reply": "2023-01-23T07:42:28.637760Z"
    },
    "papermill": {
     "duration": 0.042755,
     "end_time": "2023-01-23T07:42:28.641666",
     "exception": false,
     "start_time": "2023-01-23T07:42:28.598911",
     "status": "completed"
    },
    "tags": []
   },
   "outputs": [
    {
     "data": {
      "text/html": [
       "<div>\n",
       "<style scoped>\n",
       "    .dataframe tbody tr th:only-of-type {\n",
       "        vertical-align: middle;\n",
       "    }\n",
       "\n",
       "    .dataframe tbody tr th {\n",
       "        vertical-align: top;\n",
       "    }\n",
       "\n",
       "    .dataframe thead th {\n",
       "        text-align: right;\n",
       "    }\n",
       "</style>\n",
       "<table border=\"1\" class=\"dataframe\">\n",
       "  <thead>\n",
       "    <tr style=\"text-align: right;\">\n",
       "      <th></th>\n",
       "      <th>Sno</th>\n",
       "      <th>Date</th>\n",
       "      <th>Time</th>\n",
       "      <th>State/UnionTerritory</th>\n",
       "      <th>ConfirmedIndianNational</th>\n",
       "      <th>ConfirmedForeignNational</th>\n",
       "      <th>Cured</th>\n",
       "      <th>Deaths</th>\n",
       "      <th>Confirmed</th>\n",
       "    </tr>\n",
       "  </thead>\n",
       "  <tbody>\n",
       "    <tr>\n",
       "      <th>0</th>\n",
       "      <td>1.0</td>\n",
       "      <td>2020-01-30</td>\n",
       "      <td>6:00 PM</td>\n",
       "      <td>Kerala</td>\n",
       "      <td>1</td>\n",
       "      <td>0</td>\n",
       "      <td>0.0</td>\n",
       "      <td>0.0</td>\n",
       "      <td>1.0</td>\n",
       "    </tr>\n",
       "    <tr>\n",
       "      <th>1</th>\n",
       "      <td>2.0</td>\n",
       "      <td>2020-01-31</td>\n",
       "      <td>6:00 PM</td>\n",
       "      <td>Kerala</td>\n",
       "      <td>1</td>\n",
       "      <td>0</td>\n",
       "      <td>0.0</td>\n",
       "      <td>0.0</td>\n",
       "      <td>1.0</td>\n",
       "    </tr>\n",
       "    <tr>\n",
       "      <th>2</th>\n",
       "      <td>3.0</td>\n",
       "      <td>2020-02-01</td>\n",
       "      <td>6:00 PM</td>\n",
       "      <td>Kerala</td>\n",
       "      <td>2</td>\n",
       "      <td>0</td>\n",
       "      <td>0.0</td>\n",
       "      <td>0.0</td>\n",
       "      <td>2.0</td>\n",
       "    </tr>\n",
       "    <tr>\n",
       "      <th>3</th>\n",
       "      <td>4.0</td>\n",
       "      <td>2020-02-02</td>\n",
       "      <td>6:00 PM</td>\n",
       "      <td>Kerala</td>\n",
       "      <td>3</td>\n",
       "      <td>0</td>\n",
       "      <td>0.0</td>\n",
       "      <td>0.0</td>\n",
       "      <td>3.0</td>\n",
       "    </tr>\n",
       "    <tr>\n",
       "      <th>4</th>\n",
       "      <td>5.0</td>\n",
       "      <td>2020-02-03</td>\n",
       "      <td>6:00 PM</td>\n",
       "      <td>Kerala</td>\n",
       "      <td>3</td>\n",
       "      <td>0</td>\n",
       "      <td>0.0</td>\n",
       "      <td>0.0</td>\n",
       "      <td>3.0</td>\n",
       "    </tr>\n",
       "  </tbody>\n",
       "</table>\n",
       "</div>"
      ],
      "text/plain": [
       "   Sno        Date     Time State/UnionTerritory ConfirmedIndianNational  \\\n",
       "0  1.0  2020-01-30  6:00 PM               Kerala                       1   \n",
       "1  2.0  2020-01-31  6:00 PM               Kerala                       1   \n",
       "2  3.0  2020-02-01  6:00 PM               Kerala                       2   \n",
       "3  4.0  2020-02-02  6:00 PM               Kerala                       3   \n",
       "4  5.0  2020-02-03  6:00 PM               Kerala                       3   \n",
       "\n",
       "  ConfirmedForeignNational  Cured  Deaths  Confirmed  \n",
       "0                        0    0.0     0.0        1.0  \n",
       "1                        0    0.0     0.0        1.0  \n",
       "2                        0    0.0     0.0        2.0  \n",
       "3                        0    0.0     0.0        3.0  \n",
       "4                        0    0.0     0.0        3.0  "
      ]
     },
     "execution_count": 3,
     "metadata": {},
     "output_type": "execute_result"
    }
   ],
   "source": [
    "covid_df.head()"
   ]
  },
  {
   "cell_type": "code",
   "execution_count": 4,
   "id": "3262e262",
   "metadata": {
    "execution": {
     "iopub.execute_input": "2023-01-23T07:42:28.662179Z",
     "iopub.status.busy": "2023-01-23T07:42:28.661020Z",
     "iopub.status.idle": "2023-01-23T07:42:28.694985Z",
     "shell.execute_reply": "2023-01-23T07:42:28.693422Z"
    },
    "papermill": {
     "duration": 0.048227,
     "end_time": "2023-01-23T07:42:28.698891",
     "exception": false,
     "start_time": "2023-01-23T07:42:28.650664",
     "status": "completed"
    },
    "tags": []
   },
   "outputs": [
    {
     "name": "stdout",
     "output_type": "stream",
     "text": [
      "<class 'pandas.core.frame.DataFrame'>\n",
      "RangeIndex: 15114 entries, 0 to 15113\n",
      "Data columns (total 9 columns):\n",
      " #   Column                    Non-Null Count  Dtype  \n",
      "---  ------                    --------------  -----  \n",
      " 0   Sno                       15086 non-null  float64\n",
      " 1   Date                      15086 non-null  object \n",
      " 2   Time                      15086 non-null  object \n",
      " 3   State/UnionTerritory      15086 non-null  object \n",
      " 4   ConfirmedIndianNational   15086 non-null  object \n",
      " 5   ConfirmedForeignNational  15086 non-null  object \n",
      " 6   Cured                     15086 non-null  float64\n",
      " 7   Deaths                    15086 non-null  float64\n",
      " 8   Confirmed                 15086 non-null  float64\n",
      "dtypes: float64(4), object(5)\n",
      "memory usage: 1.0+ MB\n"
     ]
    }
   ],
   "source": [
    "covid_df.info()"
   ]
  },
  {
   "cell_type": "code",
   "execution_count": 5,
   "id": "a96776c5",
   "metadata": {
    "execution": {
     "iopub.execute_input": "2023-01-23T07:42:28.723051Z",
     "iopub.status.busy": "2023-01-23T07:42:28.722097Z",
     "iopub.status.idle": "2023-01-23T07:42:28.756114Z",
     "shell.execute_reply": "2023-01-23T07:42:28.754780Z"
    },
    "papermill": {
     "duration": 0.047743,
     "end_time": "2023-01-23T07:42:28.758877",
     "exception": false,
     "start_time": "2023-01-23T07:42:28.711134",
     "status": "completed"
    },
    "tags": []
   },
   "outputs": [
    {
     "data": {
      "text/html": [
       "<div>\n",
       "<style scoped>\n",
       "    .dataframe tbody tr th:only-of-type {\n",
       "        vertical-align: middle;\n",
       "    }\n",
       "\n",
       "    .dataframe tbody tr th {\n",
       "        vertical-align: top;\n",
       "    }\n",
       "\n",
       "    .dataframe thead th {\n",
       "        text-align: right;\n",
       "    }\n",
       "</style>\n",
       "<table border=\"1\" class=\"dataframe\">\n",
       "  <thead>\n",
       "    <tr style=\"text-align: right;\">\n",
       "      <th></th>\n",
       "      <th>Sno</th>\n",
       "      <th>Cured</th>\n",
       "      <th>Deaths</th>\n",
       "      <th>Confirmed</th>\n",
       "    </tr>\n",
       "  </thead>\n",
       "  <tbody>\n",
       "    <tr>\n",
       "      <th>count</th>\n",
       "      <td>15086.000000</td>\n",
       "      <td>1.508600e+04</td>\n",
       "      <td>15086.000000</td>\n",
       "      <td>1.508600e+04</td>\n",
       "    </tr>\n",
       "    <tr>\n",
       "      <th>mean</th>\n",
       "      <td>7543.500000</td>\n",
       "      <td>1.747937e+05</td>\n",
       "      <td>2721.084449</td>\n",
       "      <td>1.942820e+05</td>\n",
       "    </tr>\n",
       "    <tr>\n",
       "      <th>std</th>\n",
       "      <td>4355.097416</td>\n",
       "      <td>3.648330e+05</td>\n",
       "      <td>7182.672358</td>\n",
       "      <td>4.095184e+05</td>\n",
       "    </tr>\n",
       "    <tr>\n",
       "      <th>min</th>\n",
       "      <td>1.000000</td>\n",
       "      <td>0.000000e+00</td>\n",
       "      <td>0.000000</td>\n",
       "      <td>0.000000e+00</td>\n",
       "    </tr>\n",
       "    <tr>\n",
       "      <th>25%</th>\n",
       "      <td>3772.250000</td>\n",
       "      <td>1.685000e+03</td>\n",
       "      <td>12.000000</td>\n",
       "      <td>2.935500e+03</td>\n",
       "    </tr>\n",
       "    <tr>\n",
       "      <th>50%</th>\n",
       "      <td>7543.500000</td>\n",
       "      <td>1.964700e+04</td>\n",
       "      <td>364.000000</td>\n",
       "      <td>2.608150e+04</td>\n",
       "    </tr>\n",
       "    <tr>\n",
       "      <th>75%</th>\n",
       "      <td>11314.750000</td>\n",
       "      <td>2.087552e+05</td>\n",
       "      <td>2170.000000</td>\n",
       "      <td>2.216012e+05</td>\n",
       "    </tr>\n",
       "    <tr>\n",
       "      <th>max</th>\n",
       "      <td>15086.000000</td>\n",
       "      <td>4.927480e+06</td>\n",
       "      <td>83777.000000</td>\n",
       "      <td>5.433506e+06</td>\n",
       "    </tr>\n",
       "  </tbody>\n",
       "</table>\n",
       "</div>"
      ],
      "text/plain": [
       "                Sno         Cured        Deaths     Confirmed\n",
       "count  15086.000000  1.508600e+04  15086.000000  1.508600e+04\n",
       "mean    7543.500000  1.747937e+05   2721.084449  1.942820e+05\n",
       "std     4355.097416  3.648330e+05   7182.672358  4.095184e+05\n",
       "min        1.000000  0.000000e+00      0.000000  0.000000e+00\n",
       "25%     3772.250000  1.685000e+03     12.000000  2.935500e+03\n",
       "50%     7543.500000  1.964700e+04    364.000000  2.608150e+04\n",
       "75%    11314.750000  2.087552e+05   2170.000000  2.216012e+05\n",
       "max    15086.000000  4.927480e+06  83777.000000  5.433506e+06"
      ]
     },
     "execution_count": 5,
     "metadata": {},
     "output_type": "execute_result"
    }
   ],
   "source": [
    "covid_df.describe()"
   ]
  },
  {
   "cell_type": "code",
   "execution_count": 6,
   "id": "223c2d2c",
   "metadata": {
    "execution": {
     "iopub.execute_input": "2023-01-23T07:42:28.779783Z",
     "iopub.status.busy": "2023-01-23T07:42:28.779286Z",
     "iopub.status.idle": "2023-01-23T07:42:28.793340Z",
     "shell.execute_reply": "2023-01-23T07:42:28.792169Z"
    },
    "papermill": {
     "duration": 0.027424,
     "end_time": "2023-01-23T07:42:28.796231",
     "exception": false,
     "start_time": "2023-01-23T07:42:28.768807",
     "status": "completed"
    },
    "tags": []
   },
   "outputs": [],
   "source": [
    "vaccine_df = pd.read_csv('/kaggle/input/covid19-vaccines-and-cases-dataset-state-wise/Covid vaccines and Cases Dataset Statewise (states  UTs).csv')"
   ]
  },
  {
   "cell_type": "code",
   "execution_count": 7,
   "id": "38c83646",
   "metadata": {
    "execution": {
     "iopub.execute_input": "2023-01-23T07:42:28.817191Z",
     "iopub.status.busy": "2023-01-23T07:42:28.816411Z",
     "iopub.status.idle": "2023-01-23T07:42:28.830698Z",
     "shell.execute_reply": "2023-01-23T07:42:28.829387Z"
    },
    "papermill": {
     "duration": 0.028728,
     "end_time": "2023-01-23T07:42:28.834278",
     "exception": false,
     "start_time": "2023-01-23T07:42:28.805550",
     "status": "completed"
    },
    "tags": []
   },
   "outputs": [
    {
     "name": "stdout",
     "output_type": "stream",
     "text": [
      "<class 'pandas.core.frame.DataFrame'>\n",
      "RangeIndex: 36 entries, 0 to 35\n",
      "Data columns (total 7 columns):\n",
      " #   Column                       Non-Null Count  Dtype \n",
      "---  ------                       --------------  ----- \n",
      " 0   State Name                   36 non-null     object\n",
      " 1   TOTAL CONFIRMED              36 non-null     int64 \n",
      " 2   CURED/ DISCHARGED/ MIGRATED  36 non-null     int64 \n",
      " 3   DEATH                        36 non-null     int64 \n",
      " 4   Total Vaccine Doses          36 non-null     int64 \n",
      " 5   First Dose                   36 non-null     int64 \n",
      " 6   Second Dose                  36 non-null     int64 \n",
      "dtypes: int64(6), object(1)\n",
      "memory usage: 2.1+ KB\n"
     ]
    }
   ],
   "source": [
    "vaccine_df.info()"
   ]
  },
  {
   "cell_type": "code",
   "execution_count": 8,
   "id": "69b886ab",
   "metadata": {
    "execution": {
     "iopub.execute_input": "2023-01-23T07:42:28.856662Z",
     "iopub.status.busy": "2023-01-23T07:42:28.855848Z",
     "iopub.status.idle": "2023-01-23T07:42:28.869930Z",
     "shell.execute_reply": "2023-01-23T07:42:28.868424Z"
    },
    "papermill": {
     "duration": 0.028246,
     "end_time": "2023-01-23T07:42:28.872731",
     "exception": false,
     "start_time": "2023-01-23T07:42:28.844485",
     "status": "completed"
    },
    "tags": []
   },
   "outputs": [
    {
     "data": {
      "text/html": [
       "<div>\n",
       "<style scoped>\n",
       "    .dataframe tbody tr th:only-of-type {\n",
       "        vertical-align: middle;\n",
       "    }\n",
       "\n",
       "    .dataframe tbody tr th {\n",
       "        vertical-align: top;\n",
       "    }\n",
       "\n",
       "    .dataframe thead th {\n",
       "        text-align: right;\n",
       "    }\n",
       "</style>\n",
       "<table border=\"1\" class=\"dataframe\">\n",
       "  <thead>\n",
       "    <tr style=\"text-align: right;\">\n",
       "      <th></th>\n",
       "      <th>State Name</th>\n",
       "      <th>TOTAL CONFIRMED</th>\n",
       "      <th>CURED/ DISCHARGED/ MIGRATED</th>\n",
       "      <th>DEATH</th>\n",
       "      <th>Total Vaccine Doses</th>\n",
       "      <th>First Dose</th>\n",
       "      <th>Second Dose</th>\n",
       "    </tr>\n",
       "  </thead>\n",
       "  <tbody>\n",
       "    <tr>\n",
       "      <th>0</th>\n",
       "      <td>Andaman And Nicobar</td>\n",
       "      <td>7572</td>\n",
       "      <td>7437</td>\n",
       "      <td>129</td>\n",
       "      <td>370432</td>\n",
       "      <td>262193</td>\n",
       "      <td>108239</td>\n",
       "    </tr>\n",
       "    <tr>\n",
       "      <th>1</th>\n",
       "      <td>Andra Pradesh</td>\n",
       "      <td>2021325</td>\n",
       "      <td>1992256</td>\n",
       "      <td>13911</td>\n",
       "      <td>31299846</td>\n",
       "      <td>22370089</td>\n",
       "      <td>8929757</td>\n",
       "    </tr>\n",
       "    <tr>\n",
       "      <th>2</th>\n",
       "      <td>Arunachal Pradesh</td>\n",
       "      <td>53338</td>\n",
       "      <td>52383</td>\n",
       "      <td>264</td>\n",
       "      <td>991138</td>\n",
       "      <td>732281</td>\n",
       "      <td>258857</td>\n",
       "    </tr>\n",
       "    <tr>\n",
       "      <th>3</th>\n",
       "      <td>Assam</td>\n",
       "      <td>591980</td>\n",
       "      <td>579935</td>\n",
       "      <td>5699</td>\n",
       "      <td>18512199</td>\n",
       "      <td>15168976</td>\n",
       "      <td>3343223</td>\n",
       "    </tr>\n",
       "    <tr>\n",
       "      <th>4</th>\n",
       "      <td>Bihar</td>\n",
       "      <td>725753</td>\n",
       "      <td>716033</td>\n",
       "      <td>9655</td>\n",
       "      <td>39540878</td>\n",
       "      <td>32919022</td>\n",
       "      <td>6621856</td>\n",
       "    </tr>\n",
       "    <tr>\n",
       "      <th>5</th>\n",
       "      <td>Chandigarh</td>\n",
       "      <td>65121</td>\n",
       "      <td>64267</td>\n",
       "      <td>814</td>\n",
       "      <td>1156172</td>\n",
       "      <td>827462</td>\n",
       "      <td>328720</td>\n",
       "    </tr>\n",
       "    <tr>\n",
       "      <th>6</th>\n",
       "      <td>Chattisgarh</td>\n",
       "      <td>1004635</td>\n",
       "      <td>990711</td>\n",
       "      <td>13556</td>\n",
       "      <td>14532424</td>\n",
       "      <td>11062785</td>\n",
       "      <td>3469639</td>\n",
       "    </tr>\n",
       "  </tbody>\n",
       "</table>\n",
       "</div>"
      ],
      "text/plain": [
       "            State Name  TOTAL CONFIRMED  CURED/ DISCHARGED/ MIGRATED  DEATH  \\\n",
       "0  Andaman And Nicobar             7572                         7437    129   \n",
       "1        Andra Pradesh          2021325                      1992256  13911   \n",
       "2    Arunachal Pradesh            53338                        52383    264   \n",
       "3                Assam           591980                       579935   5699   \n",
       "4                Bihar           725753                       716033   9655   \n",
       "5           Chandigarh            65121                        64267    814   \n",
       "6          Chattisgarh          1004635                       990711  13556   \n",
       "\n",
       "   Total Vaccine Doses  First Dose  Second Dose  \n",
       "0               370432      262193       108239  \n",
       "1             31299846    22370089      8929757  \n",
       "2               991138      732281       258857  \n",
       "3             18512199    15168976      3343223  \n",
       "4             39540878    32919022      6621856  \n",
       "5              1156172      827462       328720  \n",
       "6             14532424    11062785      3469639  "
      ]
     },
     "execution_count": 8,
     "metadata": {},
     "output_type": "execute_result"
    }
   ],
   "source": [
    "vaccine_df.head(7)"
   ]
  },
  {
   "cell_type": "code",
   "execution_count": 9,
   "id": "b7ca93a9",
   "metadata": {
    "execution": {
     "iopub.execute_input": "2023-01-23T07:42:28.894353Z",
     "iopub.status.busy": "2023-01-23T07:42:28.893543Z",
     "iopub.status.idle": "2023-01-23T07:42:28.902249Z",
     "shell.execute_reply": "2023-01-23T07:42:28.901018Z"
    },
    "papermill": {
     "duration": 0.022512,
     "end_time": "2023-01-23T07:42:28.904907",
     "exception": false,
     "start_time": "2023-01-23T07:42:28.882395",
     "status": "completed"
    },
    "tags": []
   },
   "outputs": [
    {
     "data": {
      "text/plain": [
       "Index(['Sno', 'Date', 'Time', 'State/UnionTerritory',\n",
       "       'ConfirmedIndianNational', 'ConfirmedForeignNational', 'Cured',\n",
       "       'Deaths', 'Confirmed'],\n",
       "      dtype='object')"
      ]
     },
     "execution_count": 9,
     "metadata": {},
     "output_type": "execute_result"
    }
   ],
   "source": [
    "covid_df.columns"
   ]
  },
  {
   "cell_type": "code",
   "execution_count": 10,
   "id": "827d86e5",
   "metadata": {
    "execution": {
     "iopub.execute_input": "2023-01-23T07:42:28.927696Z",
     "iopub.status.busy": "2023-01-23T07:42:28.926852Z",
     "iopub.status.idle": "2023-01-23T07:42:28.935077Z",
     "shell.execute_reply": "2023-01-23T07:42:28.933910Z"
    },
    "papermill": {
     "duration": 0.022906,
     "end_time": "2023-01-23T07:42:28.937952",
     "exception": false,
     "start_time": "2023-01-23T07:42:28.915046",
     "status": "completed"
    },
    "tags": []
   },
   "outputs": [],
   "source": [
    "covid_df.drop([\"Sno\",\"Time\",\"ConfirmedIndianNational\",\"ConfirmedForeignNational\"], inplace = True , axis=1)"
   ]
  },
  {
   "cell_type": "code",
   "execution_count": 11,
   "id": "6fbdf634",
   "metadata": {
    "execution": {
     "iopub.execute_input": "2023-01-23T07:42:28.959548Z",
     "iopub.status.busy": "2023-01-23T07:42:28.958736Z",
     "iopub.status.idle": "2023-01-23T07:42:28.975005Z",
     "shell.execute_reply": "2023-01-23T07:42:28.973794Z"
    },
    "papermill": {
     "duration": 0.029834,
     "end_time": "2023-01-23T07:42:28.977377",
     "exception": false,
     "start_time": "2023-01-23T07:42:28.947543",
     "status": "completed"
    },
    "tags": []
   },
   "outputs": [
    {
     "data": {
      "text/html": [
       "<div>\n",
       "<style scoped>\n",
       "    .dataframe tbody tr th:only-of-type {\n",
       "        vertical-align: middle;\n",
       "    }\n",
       "\n",
       "    .dataframe tbody tr th {\n",
       "        vertical-align: top;\n",
       "    }\n",
       "\n",
       "    .dataframe thead th {\n",
       "        text-align: right;\n",
       "    }\n",
       "</style>\n",
       "<table border=\"1\" class=\"dataframe\">\n",
       "  <thead>\n",
       "    <tr style=\"text-align: right;\">\n",
       "      <th></th>\n",
       "      <th>Date</th>\n",
       "      <th>State/UnionTerritory</th>\n",
       "      <th>Cured</th>\n",
       "      <th>Deaths</th>\n",
       "      <th>Confirmed</th>\n",
       "    </tr>\n",
       "  </thead>\n",
       "  <tbody>\n",
       "    <tr>\n",
       "      <th>0</th>\n",
       "      <td>2020-01-30</td>\n",
       "      <td>Kerala</td>\n",
       "      <td>0.0</td>\n",
       "      <td>0.0</td>\n",
       "      <td>1.0</td>\n",
       "    </tr>\n",
       "    <tr>\n",
       "      <th>1</th>\n",
       "      <td>2020-01-31</td>\n",
       "      <td>Kerala</td>\n",
       "      <td>0.0</td>\n",
       "      <td>0.0</td>\n",
       "      <td>1.0</td>\n",
       "    </tr>\n",
       "    <tr>\n",
       "      <th>2</th>\n",
       "      <td>2020-02-01</td>\n",
       "      <td>Kerala</td>\n",
       "      <td>0.0</td>\n",
       "      <td>0.0</td>\n",
       "      <td>2.0</td>\n",
       "    </tr>\n",
       "    <tr>\n",
       "      <th>3</th>\n",
       "      <td>2020-02-02</td>\n",
       "      <td>Kerala</td>\n",
       "      <td>0.0</td>\n",
       "      <td>0.0</td>\n",
       "      <td>3.0</td>\n",
       "    </tr>\n",
       "    <tr>\n",
       "      <th>4</th>\n",
       "      <td>2020-02-03</td>\n",
       "      <td>Kerala</td>\n",
       "      <td>0.0</td>\n",
       "      <td>0.0</td>\n",
       "      <td>3.0</td>\n",
       "    </tr>\n",
       "  </tbody>\n",
       "</table>\n",
       "</div>"
      ],
      "text/plain": [
       "         Date State/UnionTerritory  Cured  Deaths  Confirmed\n",
       "0  2020-01-30               Kerala    0.0     0.0        1.0\n",
       "1  2020-01-31               Kerala    0.0     0.0        1.0\n",
       "2  2020-02-01               Kerala    0.0     0.0        2.0\n",
       "3  2020-02-02               Kerala    0.0     0.0        3.0\n",
       "4  2020-02-03               Kerala    0.0     0.0        3.0"
      ]
     },
     "execution_count": 11,
     "metadata": {},
     "output_type": "execute_result"
    }
   ],
   "source": [
    "covid_df.head()"
   ]
  },
  {
   "cell_type": "code",
   "execution_count": 12,
   "id": "6244bf7d",
   "metadata": {
    "execution": {
     "iopub.execute_input": "2023-01-23T07:42:29.000370Z",
     "iopub.status.busy": "2023-01-23T07:42:28.999339Z",
     "iopub.status.idle": "2023-01-23T07:42:29.015391Z",
     "shell.execute_reply": "2023-01-23T07:42:29.014006Z"
    },
    "papermill": {
     "duration": 0.030757,
     "end_time": "2023-01-23T07:42:29.018554",
     "exception": false,
     "start_time": "2023-01-23T07:42:28.987797",
     "status": "completed"
    },
    "tags": []
   },
   "outputs": [],
   "source": [
    "covid_df['Date'] = pd.to_datetime(covid_df['Date'],format = '%Y-%m-%d')"
   ]
  },
  {
   "cell_type": "code",
   "execution_count": 13,
   "id": "bcd05c1f",
   "metadata": {
    "execution": {
     "iopub.execute_input": "2023-01-23T07:42:29.041067Z",
     "iopub.status.busy": "2023-01-23T07:42:29.040504Z",
     "iopub.status.idle": "2023-01-23T07:42:29.060018Z",
     "shell.execute_reply": "2023-01-23T07:42:29.058397Z"
    },
    "papermill": {
     "duration": 0.034523,
     "end_time": "2023-01-23T07:42:29.063565",
     "exception": false,
     "start_time": "2023-01-23T07:42:29.029042",
     "status": "completed"
    },
    "tags": []
   },
   "outputs": [
    {
     "data": {
      "text/html": [
       "<div>\n",
       "<style scoped>\n",
       "    .dataframe tbody tr th:only-of-type {\n",
       "        vertical-align: middle;\n",
       "    }\n",
       "\n",
       "    .dataframe tbody tr th {\n",
       "        vertical-align: top;\n",
       "    }\n",
       "\n",
       "    .dataframe thead th {\n",
       "        text-align: right;\n",
       "    }\n",
       "</style>\n",
       "<table border=\"1\" class=\"dataframe\">\n",
       "  <thead>\n",
       "    <tr style=\"text-align: right;\">\n",
       "      <th></th>\n",
       "      <th>Date</th>\n",
       "      <th>State/UnionTerritory</th>\n",
       "      <th>Cured</th>\n",
       "      <th>Deaths</th>\n",
       "      <th>Confirmed</th>\n",
       "    </tr>\n",
       "  </thead>\n",
       "  <tbody>\n",
       "    <tr>\n",
       "      <th>0</th>\n",
       "      <td>2020-01-30</td>\n",
       "      <td>Kerala</td>\n",
       "      <td>0.0</td>\n",
       "      <td>0.0</td>\n",
       "      <td>1.0</td>\n",
       "    </tr>\n",
       "    <tr>\n",
       "      <th>1</th>\n",
       "      <td>2020-01-31</td>\n",
       "      <td>Kerala</td>\n",
       "      <td>0.0</td>\n",
       "      <td>0.0</td>\n",
       "      <td>1.0</td>\n",
       "    </tr>\n",
       "    <tr>\n",
       "      <th>2</th>\n",
       "      <td>2020-02-01</td>\n",
       "      <td>Kerala</td>\n",
       "      <td>0.0</td>\n",
       "      <td>0.0</td>\n",
       "      <td>2.0</td>\n",
       "    </tr>\n",
       "    <tr>\n",
       "      <th>3</th>\n",
       "      <td>2020-02-02</td>\n",
       "      <td>Kerala</td>\n",
       "      <td>0.0</td>\n",
       "      <td>0.0</td>\n",
       "      <td>3.0</td>\n",
       "    </tr>\n",
       "    <tr>\n",
       "      <th>4</th>\n",
       "      <td>2020-02-03</td>\n",
       "      <td>Kerala</td>\n",
       "      <td>0.0</td>\n",
       "      <td>0.0</td>\n",
       "      <td>3.0</td>\n",
       "    </tr>\n",
       "  </tbody>\n",
       "</table>\n",
       "</div>"
      ],
      "text/plain": [
       "        Date State/UnionTerritory  Cured  Deaths  Confirmed\n",
       "0 2020-01-30               Kerala    0.0     0.0        1.0\n",
       "1 2020-01-31               Kerala    0.0     0.0        1.0\n",
       "2 2020-02-01               Kerala    0.0     0.0        2.0\n",
       "3 2020-02-02               Kerala    0.0     0.0        3.0\n",
       "4 2020-02-03               Kerala    0.0     0.0        3.0"
      ]
     },
     "execution_count": 13,
     "metadata": {},
     "output_type": "execute_result"
    }
   ],
   "source": [
    "covid_df.head()"
   ]
  },
  {
   "cell_type": "code",
   "execution_count": 14,
   "id": "a02197cc",
   "metadata": {
    "execution": {
     "iopub.execute_input": "2023-01-23T07:42:29.087771Z",
     "iopub.status.busy": "2023-01-23T07:42:29.087267Z",
     "iopub.status.idle": "2023-01-23T07:42:29.105845Z",
     "shell.execute_reply": "2023-01-23T07:42:29.104593Z"
    },
    "papermill": {
     "duration": 0.03362,
     "end_time": "2023-01-23T07:42:29.108641",
     "exception": false,
     "start_time": "2023-01-23T07:42:29.075021",
     "status": "completed"
    },
    "tags": []
   },
   "outputs": [
    {
     "data": {
      "text/html": [
       "<div>\n",
       "<style scoped>\n",
       "    .dataframe tbody tr th:only-of-type {\n",
       "        vertical-align: middle;\n",
       "    }\n",
       "\n",
       "    .dataframe tbody tr th {\n",
       "        vertical-align: top;\n",
       "    }\n",
       "\n",
       "    .dataframe thead th {\n",
       "        text-align: right;\n",
       "    }\n",
       "</style>\n",
       "<table border=\"1\" class=\"dataframe\">\n",
       "  <thead>\n",
       "    <tr style=\"text-align: right;\">\n",
       "      <th></th>\n",
       "      <th>Date</th>\n",
       "      <th>State/UnionTerritory</th>\n",
       "      <th>Cured</th>\n",
       "      <th>Deaths</th>\n",
       "      <th>Confirmed</th>\n",
       "      <th>Active_Cases</th>\n",
       "    </tr>\n",
       "  </thead>\n",
       "  <tbody>\n",
       "    <tr>\n",
       "      <th>15109</th>\n",
       "      <td>NaT</td>\n",
       "      <td>NaN</td>\n",
       "      <td>NaN</td>\n",
       "      <td>NaN</td>\n",
       "      <td>NaN</td>\n",
       "      <td>NaN</td>\n",
       "    </tr>\n",
       "    <tr>\n",
       "      <th>15110</th>\n",
       "      <td>NaT</td>\n",
       "      <td>NaN</td>\n",
       "      <td>NaN</td>\n",
       "      <td>NaN</td>\n",
       "      <td>NaN</td>\n",
       "      <td>NaN</td>\n",
       "    </tr>\n",
       "    <tr>\n",
       "      <th>15111</th>\n",
       "      <td>NaT</td>\n",
       "      <td>NaN</td>\n",
       "      <td>NaN</td>\n",
       "      <td>NaN</td>\n",
       "      <td>NaN</td>\n",
       "      <td>NaN</td>\n",
       "    </tr>\n",
       "    <tr>\n",
       "      <th>15112</th>\n",
       "      <td>NaT</td>\n",
       "      <td>NaN</td>\n",
       "      <td>NaN</td>\n",
       "      <td>NaN</td>\n",
       "      <td>NaN</td>\n",
       "      <td>NaN</td>\n",
       "    </tr>\n",
       "    <tr>\n",
       "      <th>15113</th>\n",
       "      <td>NaT</td>\n",
       "      <td>NaN</td>\n",
       "      <td>NaN</td>\n",
       "      <td>NaN</td>\n",
       "      <td>NaN</td>\n",
       "      <td>NaN</td>\n",
       "    </tr>\n",
       "  </tbody>\n",
       "</table>\n",
       "</div>"
      ],
      "text/plain": [
       "      Date State/UnionTerritory  Cured  Deaths  Confirmed  Active_Cases\n",
       "15109  NaT                  NaN    NaN     NaN        NaN           NaN\n",
       "15110  NaT                  NaN    NaN     NaN        NaN           NaN\n",
       "15111  NaT                  NaN    NaN     NaN        NaN           NaN\n",
       "15112  NaT                  NaN    NaN     NaN        NaN           NaN\n",
       "15113  NaT                  NaN    NaN     NaN        NaN           NaN"
      ]
     },
     "execution_count": 14,
     "metadata": {},
     "output_type": "execute_result"
    }
   ],
   "source": [
    "# Active cases\n",
    "\n",
    "covid_df['Active_Cases'] = covid_df['Confirmed']-(covid_df['Cured'] + covid_df['Deaths'])\n",
    "covid_df.tail()"
   ]
  },
  {
   "cell_type": "code",
   "execution_count": 15,
   "id": "6ff08fd1",
   "metadata": {
    "execution": {
     "iopub.execute_input": "2023-01-23T07:42:29.132114Z",
     "iopub.status.busy": "2023-01-23T07:42:29.131137Z",
     "iopub.status.idle": "2023-01-23T07:42:29.154909Z",
     "shell.execute_reply": "2023-01-23T07:42:29.153781Z"
    },
    "papermill": {
     "duration": 0.039198,
     "end_time": "2023-01-23T07:42:29.158158",
     "exception": false,
     "start_time": "2023-01-23T07:42:29.118960",
     "status": "completed"
    },
    "tags": []
   },
   "outputs": [],
   "source": [
    "statewise = pd.pivot_table(covid_df,values = [\"Confirmed\",\"Deaths\",\"Cured\"], \n",
    "                           index=\"State/UnionTerritory\",aggfunc=max)"
   ]
  },
  {
   "cell_type": "code",
   "execution_count": 16,
   "id": "3414c3b9",
   "metadata": {
    "execution": {
     "iopub.execute_input": "2023-01-23T07:42:29.181092Z",
     "iopub.status.busy": "2023-01-23T07:42:29.180595Z",
     "iopub.status.idle": "2023-01-23T07:42:29.188638Z",
     "shell.execute_reply": "2023-01-23T07:42:29.187202Z"
    },
    "papermill": {
     "duration": 0.022769,
     "end_time": "2023-01-23T07:42:29.191413",
     "exception": false,
     "start_time": "2023-01-23T07:42:29.168644",
     "status": "completed"
    },
    "tags": []
   },
   "outputs": [],
   "source": [
    "statewise[\"Recovery Rate\"] = statewise[\"Cured\"]*100/statewise[\"Confirmed\"]"
   ]
  },
  {
   "cell_type": "code",
   "execution_count": 17,
   "id": "27a9a4b7",
   "metadata": {
    "execution": {
     "iopub.execute_input": "2023-01-23T07:42:29.214143Z",
     "iopub.status.busy": "2023-01-23T07:42:29.213646Z",
     "iopub.status.idle": "2023-01-23T07:42:29.221361Z",
     "shell.execute_reply": "2023-01-23T07:42:29.219923Z"
    },
    "papermill": {
     "duration": 0.022146,
     "end_time": "2023-01-23T07:42:29.223912",
     "exception": false,
     "start_time": "2023-01-23T07:42:29.201766",
     "status": "completed"
    },
    "tags": []
   },
   "outputs": [],
   "source": [
    "statewise[\"Mortality Rate\"] = statewise[\"Deaths\"]*100/statewise[\"Confirmed\"]"
   ]
  },
  {
   "cell_type": "code",
   "execution_count": 18,
   "id": "1fd95a35",
   "metadata": {
    "execution": {
     "iopub.execute_input": "2023-01-23T07:42:29.246553Z",
     "iopub.status.busy": "2023-01-23T07:42:29.245947Z",
     "iopub.status.idle": "2023-01-23T07:42:29.253604Z",
     "shell.execute_reply": "2023-01-23T07:42:29.252173Z"
    },
    "papermill": {
     "duration": 0.022621,
     "end_time": "2023-01-23T07:42:29.256613",
     "exception": false,
     "start_time": "2023-01-23T07:42:29.233992",
     "status": "completed"
    },
    "tags": []
   },
   "outputs": [],
   "source": [
    "statewise = statewise.sort_values(by=\"Confirmed\",ascending = False)"
   ]
  },
  {
   "cell_type": "code",
   "execution_count": 19,
   "id": "8b7f2c84",
   "metadata": {
    "execution": {
     "iopub.execute_input": "2023-01-23T07:42:29.279837Z",
     "iopub.status.busy": "2023-01-23T07:42:29.279262Z",
     "iopub.status.idle": "2023-01-23T07:42:29.383023Z",
     "shell.execute_reply": "2023-01-23T07:42:29.381670Z"
    },
    "papermill": {
     "duration": 0.119172,
     "end_time": "2023-01-23T07:42:29.385897",
     "exception": false,
     "start_time": "2023-01-23T07:42:29.266725",
     "status": "completed"
    },
    "tags": []
   },
   "outputs": [
    {
     "data": {
      "text/html": [
       "<style type=\"text/css\">\n",
       "#T_c0b82_row0_col0, #T_c0b82_row0_col1, #T_c0b82_row0_col2, #T_c0b82_row16_col4, #T_c0b82_row36_col3 {\n",
       "  background-color: #ffffff;\n",
       "  color: #000000;\n",
       "}\n",
       "#T_c0b82_row0_col3, #T_c0b82_row4_col3, #T_c0b82_row15_col3 {\n",
       "  background-color: #e9f8f2;\n",
       "  color: #000000;\n",
       "}\n",
       "#T_c0b82_row0_col4 {\n",
       "  background-color: #d487b2;\n",
       "  color: #f1f1f1;\n",
       "}\n",
       "#T_c0b82_row1_col0, #T_c0b82_row31_col4 {\n",
       "  background-color: #637a2f;\n",
       "  color: #f1f1f1;\n",
       "}\n",
       "#T_c0b82_row1_col1 {\n",
       "  background-color: #2d7038;\n",
       "  color: #f1f1f1;\n",
       "}\n",
       "#T_c0b82_row1_col2, #T_c0b82_row5_col0, #T_c0b82_row5_col4, #T_c0b82_row6_col1 {\n",
       "  background-color: #185b48;\n",
       "  color: #f1f1f1;\n",
       "}\n",
       "#T_c0b82_row1_col3 {\n",
       "  background-color: #c4bdf1;\n",
       "  color: #000000;\n",
       "}\n",
       "#T_c0b82_row1_col4 {\n",
       "  background-color: #607a2f;\n",
       "  color: #f1f1f1;\n",
       "}\n",
       "#T_c0b82_row2_col0, #T_c0b82_row12_col4 {\n",
       "  background-color: #577a2f;\n",
       "  color: #f1f1f1;\n",
       "}\n",
       "#T_c0b82_row2_col1 {\n",
       "  background-color: #417731;\n",
       "  color: #f1f1f1;\n",
       "}\n",
       "#T_c0b82_row2_col2, #T_c0b82_row17_col0 {\n",
       "  background-color: #180f25;\n",
       "  color: #f1f1f1;\n",
       "}\n",
       "#T_c0b82_row2_col3 {\n",
       "  background-color: #cce9ef;\n",
       "  color: #000000;\n",
       "}\n",
       "#T_c0b82_row2_col4, #T_c0b82_row13_col0 {\n",
       "  background-color: #1b1c3a;\n",
       "  color: #f1f1f1;\n",
       "}\n",
       "#T_c0b82_row3_col0 {\n",
       "  background-color: #206840;\n",
       "  color: #f1f1f1;\n",
       "}\n",
       "#T_c0b82_row3_col1 {\n",
       "  background-color: #1a6046;\n",
       "  color: #f1f1f1;\n",
       "}\n",
       "#T_c0b82_row3_col2 {\n",
       "  background-color: #15464e;\n",
       "  color: #f1f1f1;\n",
       "}\n",
       "#T_c0b82_row3_col3 {\n",
       "  background-color: #cdeaef;\n",
       "  color: #000000;\n",
       "}\n",
       "#T_c0b82_row3_col4, #T_c0b82_row4_col4 {\n",
       "  background-color: #817a37;\n",
       "  color: #f1f1f1;\n",
       "}\n",
       "#T_c0b82_row4_col0, #T_c0b82_row4_col1 {\n",
       "  background-color: #1f6741;\n",
       "  color: #f1f1f1;\n",
       "}\n",
       "#T_c0b82_row4_col2, #T_c0b82_row7_col0, #T_c0b82_row17_col4 {\n",
       "  background-color: #15444f;\n",
       "  color: #f1f1f1;\n",
       "}\n",
       "#T_c0b82_row5_col1 {\n",
       "  background-color: #16554b;\n",
       "  color: #f1f1f1;\n",
       "}\n",
       "#T_c0b82_row5_col2, #T_c0b82_row14_col0 {\n",
       "  background-color: #1b1a36;\n",
       "  color: #f1f1f1;\n",
       "}\n",
       "#T_c0b82_row5_col3, #T_c0b82_row26_col3 {\n",
       "  background-color: #d0ecef;\n",
       "  color: #000000;\n",
       "}\n",
       "#T_c0b82_row6_col0 {\n",
       "  background-color: #16574b;\n",
       "  color: #f1f1f1;\n",
       "}\n",
       "#T_c0b82_row6_col2 {\n",
       "  background-color: #17584a;\n",
       "  color: #f1f1f1;\n",
       "}\n",
       "#T_c0b82_row6_col3 {\n",
       "  background-color: #fdfefe;\n",
       "  color: #000000;\n",
       "}\n",
       "#T_c0b82_row6_col4 {\n",
       "  background-color: #d48cbe;\n",
       "  color: #f1f1f1;\n",
       "}\n",
       "#T_c0b82_row7_col1 {\n",
       "  background-color: #16404e;\n",
       "  color: #f1f1f1;\n",
       "}\n",
       "#T_c0b82_row7_col2, #T_c0b82_row9_col0, #T_c0b82_row29_col4 {\n",
       "  background-color: #192c47;\n",
       "  color: #f1f1f1;\n",
       "}\n",
       "#T_c0b82_row7_col3 {\n",
       "  background-color: #dbf3ef;\n",
       "  color: #000000;\n",
       "}\n",
       "#T_c0b82_row7_col4 {\n",
       "  background-color: #937a40;\n",
       "  color: #f1f1f1;\n",
       "}\n",
       "#T_c0b82_row8_col0 {\n",
       "  background-color: #182f49;\n",
       "  color: #f1f1f1;\n",
       "}\n",
       "#T_c0b82_row8_col1 {\n",
       "  background-color: #192d48;\n",
       "  color: #f1f1f1;\n",
       "}\n",
       "#T_c0b82_row8_col2, #T_c0b82_row10_col0 {\n",
       "  background-color: #1a2441;\n",
       "  color: #f1f1f1;\n",
       "}\n",
       "#T_c0b82_row8_col3, #T_c0b82_row19_col3, #T_c0b82_row29_col3 {\n",
       "  background-color: #e0f5f0;\n",
       "  color: #000000;\n",
       "}\n",
       "#T_c0b82_row8_col4 {\n",
       "  background-color: #b97964;\n",
       "  color: #f1f1f1;\n",
       "}\n",
       "#T_c0b82_row9_col1, #T_c0b82_row16_col2 {\n",
       "  background-color: #1a2543;\n",
       "  color: #f1f1f1;\n",
       "}\n",
       "#T_c0b82_row9_col2, #T_c0b82_row11_col2, #T_c0b82_row12_col2 {\n",
       "  background-color: #181027;\n",
       "  color: #f1f1f1;\n",
       "}\n",
       "#T_c0b82_row9_col3 {\n",
       "  background-color: #c5dff2;\n",
       "  color: #000000;\n",
       "}\n",
       "#T_c0b82_row9_col4 {\n",
       "  background-color: #2b6f39;\n",
       "  color: #f1f1f1;\n",
       "}\n",
       "#T_c0b82_row10_col1, #T_c0b82_row11_col0 {\n",
       "  background-color: #1a213e;\n",
       "  color: #f1f1f1;\n",
       "}\n",
       "#T_c0b82_row10_col2 {\n",
       "  background-color: #1a1835;\n",
       "  color: #f1f1f1;\n",
       "}\n",
       "#T_c0b82_row10_col3 {\n",
       "  background-color: #d4efef;\n",
       "  color: #000000;\n",
       "}\n",
       "#T_c0b82_row10_col4 {\n",
       "  background-color: #a1794a;\n",
       "  color: #f1f1f1;\n",
       "}\n",
       "#T_c0b82_row11_col1, #T_c0b82_row12_col0, #T_c0b82_row35_col4 {\n",
       "  background-color: #1b1f3d;\n",
       "  color: #f1f1f1;\n",
       "}\n",
       "#T_c0b82_row11_col3 {\n",
       "  background-color: #dcf3ef;\n",
       "  color: #000000;\n",
       "}\n",
       "#T_c0b82_row11_col4 {\n",
       "  background-color: #54792f;\n",
       "  color: #f1f1f1;\n",
       "}\n",
       "#T_c0b82_row12_col1 {\n",
       "  background-color: #1b1e3b;\n",
       "  color: #f1f1f1;\n",
       "}\n",
       "#T_c0b82_row12_col3 {\n",
       "  background-color: #def4ef;\n",
       "  color: #000000;\n",
       "}\n",
       "#T_c0b82_row13_col1, #T_c0b82_row37_col4 {\n",
       "  background-color: #1b1b38;\n",
       "  color: #f1f1f1;\n",
       "}\n",
       "#T_c0b82_row13_col2 {\n",
       "  background-color: #110815;\n",
       "  color: #f1f1f1;\n",
       "}\n",
       "#T_c0b82_row13_col3, #T_c0b82_row31_col3 {\n",
       "  background-color: #e3f6f0;\n",
       "  color: #000000;\n",
       "}\n",
       "#T_c0b82_row13_col4 {\n",
       "  background-color: #16534c;\n",
       "  color: #f1f1f1;\n",
       "}\n",
       "#T_c0b82_row14_col1 {\n",
       "  background-color: #1a1733;\n",
       "  color: #f1f1f1;\n",
       "}\n",
       "#T_c0b82_row14_col2, #T_c0b82_row17_col2, #T_c0b82_row18_col2, #T_c0b82_row22_col0, #T_c0b82_row22_col2 {\n",
       "  background-color: #0b040c;\n",
       "  color: #f1f1f1;\n",
       "}\n",
       "#T_c0b82_row14_col3 {\n",
       "  background-color: #cfebef;\n",
       "  color: #000000;\n",
       "}\n",
       "#T_c0b82_row14_col4 {\n",
       "  background-color: #192845;\n",
       "  color: #f1f1f1;\n",
       "}\n",
       "#T_c0b82_row15_col0, #T_c0b82_row15_col1 {\n",
       "  background-color: #1a142f;\n",
       "  color: #f1f1f1;\n",
       "}\n",
       "#T_c0b82_row15_col2 {\n",
       "  background-color: #0e050f;\n",
       "  color: #f1f1f1;\n",
       "}\n",
       "#T_c0b82_row15_col4 {\n",
       "  background-color: #154b4e;\n",
       "  color: #f1f1f1;\n",
       "}\n",
       "#T_c0b82_row16_col0 {\n",
       "  background-color: #19132d;\n",
       "  color: #f1f1f1;\n",
       "}\n",
       "#T_c0b82_row16_col1 {\n",
       "  background-color: #191129;\n",
       "  color: #f1f1f1;\n",
       "}\n",
       "#T_c0b82_row16_col3 {\n",
       "  background-color: #cbe8f0;\n",
       "  color: #000000;\n",
       "}\n",
       "#T_c0b82_row17_col1 {\n",
       "  background-color: #160d21;\n",
       "  color: #f1f1f1;\n",
       "}\n",
       "#T_c0b82_row17_col3 {\n",
       "  background-color: #c6e1f1;\n",
       "  color: #000000;\n",
       "}\n",
       "#T_c0b82_row18_col0 {\n",
       "  background-color: #150b1d;\n",
       "  color: #f1f1f1;\n",
       "}\n",
       "#T_c0b82_row18_col1, #T_c0b82_row19_col0, #T_c0b82_row20_col2 {\n",
       "  background-color: #140a1b;\n",
       "  color: #f1f1f1;\n",
       "}\n",
       "#T_c0b82_row18_col3 {\n",
       "  background-color: #d1edef;\n",
       "  color: #000000;\n",
       "}\n",
       "#T_c0b82_row18_col4 {\n",
       "  background-color: #1b6145;\n",
       "  color: #f1f1f1;\n",
       "}\n",
       "#T_c0b82_row19_col1, #T_c0b82_row19_col2 {\n",
       "  background-color: #130919;\n",
       "  color: #f1f1f1;\n",
       "}\n",
       "#T_c0b82_row19_col4 {\n",
       "  background-color: #cf7e8f;\n",
       "  color: #f1f1f1;\n",
       "}\n",
       "#T_c0b82_row20_col0 {\n",
       "  background-color: #120817;\n",
       "  color: #f1f1f1;\n",
       "}\n",
       "#T_c0b82_row20_col1, #T_c0b82_row21_col0 {\n",
       "  background-color: #100713;\n",
       "  color: #f1f1f1;\n",
       "}\n",
       "#T_c0b82_row20_col3 {\n",
       "  background-color: #c5b8ef;\n",
       "  color: #000000;\n",
       "}\n",
       "#T_c0b82_row20_col4 {\n",
       "  background-color: #cca6e4;\n",
       "  color: #000000;\n",
       "}\n",
       "#T_c0b82_row21_col1, #T_c0b82_row21_col2 {\n",
       "  background-color: #0f0611;\n",
       "  color: #f1f1f1;\n",
       "}\n",
       "#T_c0b82_row21_col3 {\n",
       "  background-color: #c2d4f3;\n",
       "  color: #000000;\n",
       "}\n",
       "#T_c0b82_row21_col4 {\n",
       "  background-color: #bc7967;\n",
       "  color: #f1f1f1;\n",
       "}\n",
       "#T_c0b82_row22_col1, #T_c0b82_row23_col0, #T_c0b82_row23_col2 {\n",
       "  background-color: #0a030a;\n",
       "  color: #f1f1f1;\n",
       "}\n",
       "#T_c0b82_row22_col3 {\n",
       "  background-color: #c1d1f3;\n",
       "  color: #000000;\n",
       "}\n",
       "#T_c0b82_row22_col4 {\n",
       "  background-color: #d2809c;\n",
       "  color: #f1f1f1;\n",
       "}\n",
       "#T_c0b82_row23_col1 {\n",
       "  background-color: #080308;\n",
       "  color: #f1f1f1;\n",
       "}\n",
       "#T_c0b82_row23_col3 {\n",
       "  background-color: #c6e0f1;\n",
       "  color: #000000;\n",
       "}\n",
       "#T_c0b82_row23_col4 {\n",
       "  background-color: #d48dc1;\n",
       "  color: #f1f1f1;\n",
       "}\n",
       "#T_c0b82_row24_col0, #T_c0b82_row33_col4 {\n",
       "  background-color: #070206;\n",
       "  color: #f1f1f1;\n",
       "}\n",
       "#T_c0b82_row24_col1, #T_c0b82_row24_col2 {\n",
       "  background-color: #050205;\n",
       "  color: #f1f1f1;\n",
       "}\n",
       "#T_c0b82_row24_col3 {\n",
       "  background-color: #c2d6f3;\n",
       "  color: #000000;\n",
       "}\n",
       "#T_c0b82_row24_col4, #T_c0b82_row36_col4 {\n",
       "  background-color: #c87b7c;\n",
       "  color: #f1f1f1;\n",
       "}\n",
       "#T_c0b82_row25_col0, #T_c0b82_row25_col1, #T_c0b82_row26_col0 {\n",
       "  background-color: #030103;\n",
       "  color: #f1f1f1;\n",
       "}\n",
       "#T_c0b82_row25_col2, #T_c0b82_row26_col1, #T_c0b82_row26_col2, #T_c0b82_row27_col0, #T_c0b82_row27_col1, #T_c0b82_row27_col2, #T_c0b82_row28_col0, #T_c0b82_row28_col2, #T_c0b82_row29_col0, #T_c0b82_row29_col1 {\n",
       "  background-color: #020102;\n",
       "  color: #f1f1f1;\n",
       "}\n",
       "#T_c0b82_row25_col3 {\n",
       "  background-color: #d6f0ef;\n",
       "  color: #000000;\n",
       "}\n",
       "#T_c0b82_row25_col4 {\n",
       "  background-color: #8d7a3d;\n",
       "  color: #f1f1f1;\n",
       "}\n",
       "#T_c0b82_row26_col4 {\n",
       "  background-color: #6f7b31;\n",
       "  color: #f1f1f1;\n",
       "}\n",
       "#T_c0b82_row27_col3 {\n",
       "  background-color: #c8e4f0;\n",
       "  color: #000000;\n",
       "}\n",
       "#T_c0b82_row27_col4 {\n",
       "  background-color: #d383a6;\n",
       "  color: #f1f1f1;\n",
       "}\n",
       "#T_c0b82_row28_col1, #T_c0b82_row29_col2, #T_c0b82_row30_col0, #T_c0b82_row30_col1, #T_c0b82_row30_col2, #T_c0b82_row31_col0, #T_c0b82_row31_col1, #T_c0b82_row31_col2, #T_c0b82_row32_col0, #T_c0b82_row32_col1, #T_c0b82_row32_col2, #T_c0b82_row33_col0, #T_c0b82_row33_col1, #T_c0b82_row33_col2, #T_c0b82_row34_col0, #T_c0b82_row34_col1, #T_c0b82_row34_col2, #T_c0b82_row34_col3, #T_c0b82_row34_col4, #T_c0b82_row35_col0, #T_c0b82_row35_col1, #T_c0b82_row35_col2, #T_c0b82_row36_col0, #T_c0b82_row36_col1, #T_c0b82_row36_col2, #T_c0b82_row37_col0, #T_c0b82_row37_col1, #T_c0b82_row37_col2, #T_c0b82_row38_col0, #T_c0b82_row38_col1, #T_c0b82_row38_col2, #T_c0b82_row38_col3, #T_c0b82_row38_col4, #T_c0b82_row39_col0, #T_c0b82_row39_col1, #T_c0b82_row39_col2, #T_c0b82_row39_col3, #T_c0b82_row39_col4 {\n",
       "  background-color: #000000;\n",
       "  color: #f1f1f1;\n",
       "}\n",
       "#T_c0b82_row28_col3 {\n",
       "  background-color: #c1cff3;\n",
       "  color: #000000;\n",
       "}\n",
       "#T_c0b82_row28_col4 {\n",
       "  background-color: #ce7d8c;\n",
       "  color: #f1f1f1;\n",
       "}\n",
       "#T_c0b82_row30_col3 {\n",
       "  background-color: #c2c6f3;\n",
       "  color: #000000;\n",
       "}\n",
       "#T_c0b82_row30_col4 {\n",
       "  background-color: #a4794c;\n",
       "  color: #f1f1f1;\n",
       "}\n",
       "#T_c0b82_row32_col3 {\n",
       "  background-color: #c6b6ee;\n",
       "  color: #000000;\n",
       "}\n",
       "#T_c0b82_row32_col4 {\n",
       "  background-color: #c6b4ee;\n",
       "  color: #000000;\n",
       "}\n",
       "#T_c0b82_row33_col3 {\n",
       "  background-color: #f2fbf6;\n",
       "  color: #000000;\n",
       "}\n",
       "#T_c0b82_row35_col3 {\n",
       "  background-color: #c1cdf3;\n",
       "  color: #000000;\n",
       "}\n",
       "#T_c0b82_row37_col3 {\n",
       "  background-color: #c2c5f3;\n",
       "  color: #000000;\n",
       "}\n",
       "</style>\n",
       "<table id=\"T_c0b82_\">\n",
       "  <thead>\n",
       "    <tr>\n",
       "      <th class=\"blank level0\" >&nbsp;</th>\n",
       "      <th class=\"col_heading level0 col0\" >Confirmed</th>\n",
       "      <th class=\"col_heading level0 col1\" >Cured</th>\n",
       "      <th class=\"col_heading level0 col2\" >Deaths</th>\n",
       "      <th class=\"col_heading level0 col3\" >Recovery Rate</th>\n",
       "      <th class=\"col_heading level0 col4\" >Mortality Rate</th>\n",
       "    </tr>\n",
       "    <tr>\n",
       "      <th class=\"index_name level0\" >State/UnionTerritory</th>\n",
       "      <th class=\"blank col0\" >&nbsp;</th>\n",
       "      <th class=\"blank col1\" >&nbsp;</th>\n",
       "      <th class=\"blank col2\" >&nbsp;</th>\n",
       "      <th class=\"blank col3\" >&nbsp;</th>\n",
       "      <th class=\"blank col4\" >&nbsp;</th>\n",
       "    </tr>\n",
       "  </thead>\n",
       "  <tbody>\n",
       "    <tr>\n",
       "      <th id=\"T_c0b82_level0_row0\" class=\"row_heading level0 row0\" >Maharashtra</th>\n",
       "      <td id=\"T_c0b82_row0_col0\" class=\"data row0 col0\" >5433506.000000</td>\n",
       "      <td id=\"T_c0b82_row0_col1\" class=\"data row0 col1\" >4927480.000000</td>\n",
       "      <td id=\"T_c0b82_row0_col2\" class=\"data row0 col2\" >83777.000000</td>\n",
       "      <td id=\"T_c0b82_row0_col3\" class=\"data row0 col3\" >90.686934</td>\n",
       "      <td id=\"T_c0b82_row0_col4\" class=\"data row0 col4\" >1.541859</td>\n",
       "    </tr>\n",
       "    <tr>\n",
       "      <th id=\"T_c0b82_level0_row1\" class=\"row_heading level0 row1\" >Karnataka</th>\n",
       "      <td id=\"T_c0b82_row1_col0\" class=\"data row1 col0\" >2272374.000000</td>\n",
       "      <td id=\"T_c0b82_row1_col1\" class=\"data row1 col1\" >1674487.000000</td>\n",
       "      <td id=\"T_c0b82_row1_col2\" class=\"data row1 col2\" >22838.000000</td>\n",
       "      <td id=\"T_c0b82_row1_col3\" class=\"data row1 col3\" >73.688882</td>\n",
       "      <td id=\"T_c0b82_row1_col4\" class=\"data row1 col4\" >1.005028</td>\n",
       "    </tr>\n",
       "    <tr>\n",
       "      <th id=\"T_c0b82_level0_row2\" class=\"row_heading level0 row2\" >Kerala</th>\n",
       "      <td id=\"T_c0b82_row2_col0\" class=\"data row2 col0\" >2200706.000000</td>\n",
       "      <td id=\"T_c0b82_row2_col1\" class=\"data row2 col1\" >1846105.000000</td>\n",
       "      <td id=\"T_c0b82_row2_col2\" class=\"data row2 col2\" >6612.000000</td>\n",
       "      <td id=\"T_c0b82_row2_col3\" class=\"data row2 col3\" >83.886944</td>\n",
       "      <td id=\"T_c0b82_row2_col4\" class=\"data row2 col4\" >0.300449</td>\n",
       "    </tr>\n",
       "    <tr>\n",
       "      <th id=\"T_c0b82_level0_row3\" class=\"row_heading level0 row3\" >Tamil Nadu</th>\n",
       "      <td id=\"T_c0b82_row3_col0\" class=\"data row3 col0\" >1664350.000000</td>\n",
       "      <td id=\"T_c0b82_row3_col1\" class=\"data row3 col1\" >1403052.000000</td>\n",
       "      <td id=\"T_c0b82_row3_col2\" class=\"data row3 col2\" >18369.000000</td>\n",
       "      <td id=\"T_c0b82_row3_col3\" class=\"data row3 col3\" >84.300297</td>\n",
       "      <td id=\"T_c0b82_row3_col4\" class=\"data row3 col4\" >1.103674</td>\n",
       "    </tr>\n",
       "    <tr>\n",
       "      <th id=\"T_c0b82_level0_row4\" class=\"row_heading level0 row4\" >Uttar Pradesh</th>\n",
       "      <td id=\"T_c0b82_row4_col0\" class=\"data row4 col0\" >1637663.000000</td>\n",
       "      <td id=\"T_c0b82_row4_col1\" class=\"data row4 col1\" >1483249.000000</td>\n",
       "      <td id=\"T_c0b82_row4_col2\" class=\"data row4 col2\" >18072.000000</td>\n",
       "      <td id=\"T_c0b82_row4_col3\" class=\"data row4 col3\" >90.571076</td>\n",
       "      <td id=\"T_c0b82_row4_col4\" class=\"data row4 col4\" >1.103524</td>\n",
       "    </tr>\n",
       "    <tr>\n",
       "      <th id=\"T_c0b82_level0_row5\" class=\"row_heading level0 row5\" >Andhra Pradesh</th>\n",
       "      <td id=\"T_c0b82_row5_col0\" class=\"data row5 col0\" >1475372.000000</td>\n",
       "      <td id=\"T_c0b82_row5_col1\" class=\"data row5 col1\" >1254291.000000</td>\n",
       "      <td id=\"T_c0b82_row5_col2\" class=\"data row5 col2\" >9580.000000</td>\n",
       "      <td id=\"T_c0b82_row5_col3\" class=\"data row5 col3\" >85.015237</td>\n",
       "      <td id=\"T_c0b82_row5_col4\" class=\"data row5 col4\" >0.649328</td>\n",
       "    </tr>\n",
       "    <tr>\n",
       "      <th id=\"T_c0b82_level0_row6\" class=\"row_heading level0 row6\" >Delhi</th>\n",
       "      <td id=\"T_c0b82_row6_col0\" class=\"data row6 col0\" >1402873.000000</td>\n",
       "      <td id=\"T_c0b82_row6_col1\" class=\"data row6 col1\" >1329899.000000</td>\n",
       "      <td id=\"T_c0b82_row6_col2\" class=\"data row6 col2\" >22111.000000</td>\n",
       "      <td id=\"T_c0b82_row6_col3\" class=\"data row6 col3\" >94.798246</td>\n",
       "      <td id=\"T_c0b82_row6_col4\" class=\"data row6 col4\" >1.576123</td>\n",
       "    </tr>\n",
       "    <tr>\n",
       "      <th id=\"T_c0b82_level0_row7\" class=\"row_heading level0 row7\" >West Bengal</th>\n",
       "      <td id=\"T_c0b82_row7_col0\" class=\"data row7 col0\" >1171861.000000</td>\n",
       "      <td id=\"T_c0b82_row7_col1\" class=\"data row7 col1\" >1026492.000000</td>\n",
       "      <td id=\"T_c0b82_row7_col2\" class=\"data row7 col2\" >13576.000000</td>\n",
       "      <td id=\"T_c0b82_row7_col3\" class=\"data row7 col3\" >87.595030</td>\n",
       "      <td id=\"T_c0b82_row7_col4\" class=\"data row7 col4\" >1.158499</td>\n",
       "    </tr>\n",
       "    <tr>\n",
       "      <th id=\"T_c0b82_level0_row8\" class=\"row_heading level0 row8\" >Chhattisgarh</th>\n",
       "      <td id=\"T_c0b82_row8_col0\" class=\"data row8 col0\" >925531.000000</td>\n",
       "      <td id=\"T_c0b82_row8_col1\" class=\"data row8 col1\" >823113.000000</td>\n",
       "      <td id=\"T_c0b82_row8_col2\" class=\"data row8 col2\" >12036.000000</td>\n",
       "      <td id=\"T_c0b82_row8_col3\" class=\"data row8 col3\" >88.934136</td>\n",
       "      <td id=\"T_c0b82_row8_col4\" class=\"data row8 col4\" >1.300443</td>\n",
       "    </tr>\n",
       "    <tr>\n",
       "      <th id=\"T_c0b82_level0_row9\" class=\"row_heading level0 row9\" >Rajasthan</th>\n",
       "      <td id=\"T_c0b82_row9_col0\" class=\"data row9 col0\" >879664.000000</td>\n",
       "      <td id=\"T_c0b82_row9_col1\" class=\"data row9 col1\" >713129.000000</td>\n",
       "      <td id=\"T_c0b82_row9_col2\" class=\"data row9 col2\" >7080.000000</td>\n",
       "      <td id=\"T_c0b82_row9_col3\" class=\"data row9 col3\" >81.068340</td>\n",
       "      <td id=\"T_c0b82_row9_col4\" class=\"data row9 col4\" >0.804853</td>\n",
       "    </tr>\n",
       "    <tr>\n",
       "      <th id=\"T_c0b82_level0_row10\" class=\"row_heading level0 row10\" >Gujarat</th>\n",
       "      <td id=\"T_c0b82_row10_col0\" class=\"data row10 col0\" >766201.000000</td>\n",
       "      <td id=\"T_c0b82_row10_col1\" class=\"data row10 col1\" >660489.000000</td>\n",
       "      <td id=\"T_c0b82_row10_col2\" class=\"data row10 col2\" >9269.000000</td>\n",
       "      <td id=\"T_c0b82_row10_col3\" class=\"data row10 col3\" >86.203098</td>\n",
       "      <td id=\"T_c0b82_row10_col4\" class=\"data row10 col4\" >1.209735</td>\n",
       "    </tr>\n",
       "    <tr>\n",
       "      <th id=\"T_c0b82_level0_row11\" class=\"row_heading level0 row11\" >Madhya Pradesh</th>\n",
       "      <td id=\"T_c0b82_row11_col0\" class=\"data row11 col0\" >742718.000000</td>\n",
       "      <td id=\"T_c0b82_row11_col1\" class=\"data row11 col1\" >652612.000000</td>\n",
       "      <td id=\"T_c0b82_row11_col2\" class=\"data row11 col2\" >7139.000000</td>\n",
       "      <td id=\"T_c0b82_row11_col3\" class=\"data row11 col3\" >87.868074</td>\n",
       "      <td id=\"T_c0b82_row11_col4\" class=\"data row11 col4\" >0.961199</td>\n",
       "    </tr>\n",
       "    <tr>\n",
       "      <th id=\"T_c0b82_level0_row12\" class=\"row_heading level0 row12\" >Haryana</th>\n",
       "      <td id=\"T_c0b82_row12_col0\" class=\"data row12 col0\" >709689.000000</td>\n",
       "      <td id=\"T_c0b82_row12_col1\" class=\"data row12 col1\" >626852.000000</td>\n",
       "      <td id=\"T_c0b82_row12_col2\" class=\"data row12 col2\" >6923.000000</td>\n",
       "      <td id=\"T_c0b82_row12_col3\" class=\"data row12 col3\" >88.327704</td>\n",
       "      <td id=\"T_c0b82_row12_col4\" class=\"data row12 col4\" >0.975498</td>\n",
       "    </tr>\n",
       "    <tr>\n",
       "      <th id=\"T_c0b82_level0_row13\" class=\"row_heading level0 row13\" >Bihar</th>\n",
       "      <td id=\"T_c0b82_row13_col0\" class=\"data row13 col0\" >664115.000000</td>\n",
       "      <td id=\"T_c0b82_row13_col1\" class=\"data row13 col1\" >595377.000000</td>\n",
       "      <td id=\"T_c0b82_row13_col2\" class=\"data row13 col2\" >4039.000000</td>\n",
       "      <td id=\"T_c0b82_row13_col3\" class=\"data row13 col3\" >89.649684</td>\n",
       "      <td id=\"T_c0b82_row13_col4\" class=\"data row13 col4\" >0.608178</td>\n",
       "    </tr>\n",
       "    <tr>\n",
       "      <th id=\"T_c0b82_level0_row14\" class=\"row_heading level0 row14\" >Odisha</th>\n",
       "      <td id=\"T_c0b82_row14_col0\" class=\"data row14 col0\" >633302.000000</td>\n",
       "      <td id=\"T_c0b82_row14_col1\" class=\"data row14 col1\" >536595.000000</td>\n",
       "      <td id=\"T_c0b82_row14_col2\" class=\"data row14 col2\" >2357.000000</td>\n",
       "      <td id=\"T_c0b82_row14_col3\" class=\"data row14 col3\" >84.729718</td>\n",
       "      <td id=\"T_c0b82_row14_col4\" class=\"data row14 col4\" >0.372176</td>\n",
       "    </tr>\n",
       "    <tr>\n",
       "      <th id=\"T_c0b82_level0_row15\" class=\"row_heading level0 row15\" >Telangana</th>\n",
       "      <td id=\"T_c0b82_row15_col0\" class=\"data row15 col0\" >536766.000000</td>\n",
       "      <td id=\"T_c0b82_row15_col1\" class=\"data row15 col1\" >485644.000000</td>\n",
       "      <td id=\"T_c0b82_row15_col2\" class=\"data row15 col2\" >3012.000000</td>\n",
       "      <td id=\"T_c0b82_row15_col3\" class=\"data row15 col3\" >90.475924</td>\n",
       "      <td id=\"T_c0b82_row15_col4\" class=\"data row15 col4\" >0.561138</td>\n",
       "    </tr>\n",
       "    <tr>\n",
       "      <th id=\"T_c0b82_level0_row16\" class=\"row_heading level0 row16\" >Punjab</th>\n",
       "      <td id=\"T_c0b82_row16_col0\" class=\"data row16 col0\" >511652.000000</td>\n",
       "      <td id=\"T_c0b82_row16_col1\" class=\"data row16 col1\" >427058.000000</td>\n",
       "      <td id=\"T_c0b82_row16_col2\" class=\"data row16 col2\" >12317.000000</td>\n",
       "      <td id=\"T_c0b82_row16_col3\" class=\"data row16 col3\" >83.466497</td>\n",
       "      <td id=\"T_c0b82_row16_col4\" class=\"data row16 col4\" >2.407300</td>\n",
       "    </tr>\n",
       "    <tr>\n",
       "      <th id=\"T_c0b82_level0_row17\" class=\"row_heading level0 row17\" >Telengana</th>\n",
       "      <td id=\"T_c0b82_row17_col0\" class=\"data row17 col0\" >443360.000000</td>\n",
       "      <td id=\"T_c0b82_row17_col1\" class=\"data row17 col1\" >362160.000000</td>\n",
       "      <td id=\"T_c0b82_row17_col2\" class=\"data row17 col2\" >2312.000000</td>\n",
       "      <td id=\"T_c0b82_row17_col3\" class=\"data row17 col3\" >81.685312</td>\n",
       "      <td id=\"T_c0b82_row17_col4\" class=\"data row17 col4\" >0.521472</td>\n",
       "    </tr>\n",
       "    <tr>\n",
       "      <th id=\"T_c0b82_level0_row18\" class=\"row_heading level0 row18\" >Assam</th>\n",
       "      <td id=\"T_c0b82_row18_col0\" class=\"data row18 col0\" >340858.000000</td>\n",
       "      <td id=\"T_c0b82_row18_col1\" class=\"data row18 col1\" >290774.000000</td>\n",
       "      <td id=\"T_c0b82_row18_col2\" class=\"data row18 col2\" >2344.000000</td>\n",
       "      <td id=\"T_c0b82_row18_col3\" class=\"data row18 col3\" >85.306491</td>\n",
       "      <td id=\"T_c0b82_row18_col4\" class=\"data row18 col4\" >0.687676</td>\n",
       "    </tr>\n",
       "    <tr>\n",
       "      <th id=\"T_c0b82_level0_row19\" class=\"row_heading level0 row19\" >Jharkhand</th>\n",
       "      <td id=\"T_c0b82_row19_col0\" class=\"data row19 col0\" >320934.000000</td>\n",
       "      <td id=\"T_c0b82_row19_col1\" class=\"data row19 col1\" >284805.000000</td>\n",
       "      <td id=\"T_c0b82_row19_col2\" class=\"data row19 col2\" >4601.000000</td>\n",
       "      <td id=\"T_c0b82_row19_col3\" class=\"data row19 col3\" >88.742545</td>\n",
       "      <td id=\"T_c0b82_row19_col4\" class=\"data row19 col4\" >1.433628</td>\n",
       "    </tr>\n",
       "    <tr>\n",
       "      <th id=\"T_c0b82_level0_row20\" class=\"row_heading level0 row20\" >Uttarakhand</th>\n",
       "      <td id=\"T_c0b82_row20_col0\" class=\"data row20 col0\" >295790.000000</td>\n",
       "      <td id=\"T_c0b82_row20_col1\" class=\"data row20 col1\" >214426.000000</td>\n",
       "      <td id=\"T_c0b82_row20_col2\" class=\"data row20 col2\" >5132.000000</td>\n",
       "      <td id=\"T_c0b82_row20_col3\" class=\"data row20 col3\" >72.492647</td>\n",
       "      <td id=\"T_c0b82_row20_col4\" class=\"data row20 col4\" >1.735015</td>\n",
       "    </tr>\n",
       "    <tr>\n",
       "      <th id=\"T_c0b82_level0_row21\" class=\"row_heading level0 row21\" >Jammu and Kashmir</th>\n",
       "      <td id=\"T_c0b82_row21_col0\" class=\"data row21 col0\" >251919.000000</td>\n",
       "      <td id=\"T_c0b82_row21_col1\" class=\"data row21 col1\" >197701.000000</td>\n",
       "      <td id=\"T_c0b82_row21_col2\" class=\"data row21 col2\" >3293.000000</td>\n",
       "      <td id=\"T_c0b82_row21_col3\" class=\"data row21 col3\" >78.478003</td>\n",
       "      <td id=\"T_c0b82_row21_col4\" class=\"data row21 col4\" >1.307166</td>\n",
       "    </tr>\n",
       "    <tr>\n",
       "      <th id=\"T_c0b82_level0_row22\" class=\"row_heading level0 row22\" >Himachal Pradesh</th>\n",
       "      <td id=\"T_c0b82_row22_col0\" class=\"data row22 col0\" >166678.000000</td>\n",
       "      <td id=\"T_c0b82_row22_col1\" class=\"data row22 col1\" >129330.000000</td>\n",
       "      <td id=\"T_c0b82_row22_col2\" class=\"data row22 col2\" >2460.000000</td>\n",
       "      <td id=\"T_c0b82_row22_col3\" class=\"data row22 col3\" >77.592724</td>\n",
       "      <td id=\"T_c0b82_row22_col4\" class=\"data row22 col4\" >1.475900</td>\n",
       "    </tr>\n",
       "    <tr>\n",
       "      <th id=\"T_c0b82_level0_row23\" class=\"row_heading level0 row23\" >Goa</th>\n",
       "      <td id=\"T_c0b82_row23_col0\" class=\"data row23 col0\" >138776.000000</td>\n",
       "      <td id=\"T_c0b82_row23_col1\" class=\"data row23 col1\" >112633.000000</td>\n",
       "      <td id=\"T_c0b82_row23_col2\" class=\"data row23 col2\" >2197.000000</td>\n",
       "      <td id=\"T_c0b82_row23_col3\" class=\"data row23 col3\" >81.161728</td>\n",
       "      <td id=\"T_c0b82_row23_col4\" class=\"data row23 col4\" >1.583127</td>\n",
       "    </tr>\n",
       "    <tr>\n",
       "      <th id=\"T_c0b82_level0_row24\" class=\"row_heading level0 row24\" >Puducherry</th>\n",
       "      <td id=\"T_c0b82_row24_col0\" class=\"data row24 col0\" >87749.000000</td>\n",
       "      <td id=\"T_c0b82_row24_col1\" class=\"data row24 col1\" >69060.000000</td>\n",
       "      <td id=\"T_c0b82_row24_col2\" class=\"data row24 col2\" >1212.000000</td>\n",
       "      <td id=\"T_c0b82_row24_col3\" class=\"data row24 col3\" >78.701752</td>\n",
       "      <td id=\"T_c0b82_row24_col4\" class=\"data row24 col4\" >1.381212</td>\n",
       "    </tr>\n",
       "    <tr>\n",
       "      <th id=\"T_c0b82_level0_row25\" class=\"row_heading level0 row25\" >Chandigarh</th>\n",
       "      <td id=\"T_c0b82_row25_col0\" class=\"data row25 col0\" >56513.000000</td>\n",
       "      <td id=\"T_c0b82_row25_col1\" class=\"data row25 col1\" >48831.000000</td>\n",
       "      <td id=\"T_c0b82_row25_col2\" class=\"data row25 col2\" >647.000000</td>\n",
       "      <td id=\"T_c0b82_row25_col3\" class=\"data row25 col3\" >86.406667</td>\n",
       "      <td id=\"T_c0b82_row25_col4\" class=\"data row25 col4\" >1.144869</td>\n",
       "    </tr>\n",
       "    <tr>\n",
       "      <th id=\"T_c0b82_level0_row26\" class=\"row_heading level0 row26\" >Tripura</th>\n",
       "      <td id=\"T_c0b82_row26_col0\" class=\"data row26 col0\" >42776.000000</td>\n",
       "      <td id=\"T_c0b82_row26_col1\" class=\"data row26 col1\" >36402.000000</td>\n",
       "      <td id=\"T_c0b82_row26_col2\" class=\"data row26 col2\" >450.000000</td>\n",
       "      <td id=\"T_c0b82_row26_col3\" class=\"data row26 col3\" >85.099121</td>\n",
       "      <td id=\"T_c0b82_row26_col4\" class=\"data row26 col4\" >1.051992</td>\n",
       "    </tr>\n",
       "    <tr>\n",
       "      <th id=\"T_c0b82_level0_row27\" class=\"row_heading level0 row27\" >Manipur</th>\n",
       "      <td id=\"T_c0b82_row27_col0\" class=\"data row27 col0\" >40683.000000</td>\n",
       "      <td id=\"T_c0b82_row27_col1\" class=\"data row27 col1\" >33466.000000</td>\n",
       "      <td id=\"T_c0b82_row27_col2\" class=\"data row27 col2\" >612.000000</td>\n",
       "      <td id=\"T_c0b82_row27_col3\" class=\"data row27 col3\" >82.260404</td>\n",
       "      <td id=\"T_c0b82_row27_col4\" class=\"data row27 col4\" >1.504314</td>\n",
       "    </tr>\n",
       "    <tr>\n",
       "      <th id=\"T_c0b82_level0_row28\" class=\"row_heading level0 row28\" >Meghalaya</th>\n",
       "      <td id=\"T_c0b82_row28_col0\" class=\"data row28 col0\" >24872.000000</td>\n",
       "      <td id=\"T_c0b82_row28_col1\" class=\"data row28 col1\" >19185.000000</td>\n",
       "      <td id=\"T_c0b82_row28_col2\" class=\"data row28 col2\" >355.000000</td>\n",
       "      <td id=\"T_c0b82_row28_col3\" class=\"data row28 col3\" >77.134931</td>\n",
       "      <td id=\"T_c0b82_row28_col4\" class=\"data row28 col4\" >1.427308</td>\n",
       "    </tr>\n",
       "    <tr>\n",
       "      <th id=\"T_c0b82_level0_row29\" class=\"row_heading level0 row29\" >Arunachal Pradesh</th>\n",
       "      <td id=\"T_c0b82_row29_col0\" class=\"data row29 col0\" >22462.000000</td>\n",
       "      <td id=\"T_c0b82_row29_col1\" class=\"data row29 col1\" >19977.000000</td>\n",
       "      <td id=\"T_c0b82_row29_col2\" class=\"data row29 col2\" >88.000000</td>\n",
       "      <td id=\"T_c0b82_row29_col3\" class=\"data row29 col3\" >88.936871</td>\n",
       "      <td id=\"T_c0b82_row29_col4\" class=\"data row29 col4\" >0.391773</td>\n",
       "    </tr>\n",
       "    <tr>\n",
       "      <th id=\"T_c0b82_level0_row30\" class=\"row_heading level0 row30\" >Nagaland</th>\n",
       "      <td id=\"T_c0b82_row30_col0\" class=\"data row30 col0\" >18714.000000</td>\n",
       "      <td id=\"T_c0b82_row30_col1\" class=\"data row30 col1\" >14079.000000</td>\n",
       "      <td id=\"T_c0b82_row30_col2\" class=\"data row30 col2\" >228.000000</td>\n",
       "      <td id=\"T_c0b82_row30_col3\" class=\"data row30 col3\" >75.232446</td>\n",
       "      <td id=\"T_c0b82_row30_col4\" class=\"data row30 col4\" >1.218339</td>\n",
       "    </tr>\n",
       "    <tr>\n",
       "      <th id=\"T_c0b82_level0_row31\" class=\"row_heading level0 row31\" >Ladakh</th>\n",
       "      <td id=\"T_c0b82_row31_col0\" class=\"data row31 col0\" >16784.000000</td>\n",
       "      <td id=\"T_c0b82_row31_col1\" class=\"data row31 col1\" >15031.000000</td>\n",
       "      <td id=\"T_c0b82_row31_col2\" class=\"data row31 col2\" >170.000000</td>\n",
       "      <td id=\"T_c0b82_row31_col3\" class=\"data row31 col3\" >89.555529</td>\n",
       "      <td id=\"T_c0b82_row31_col4\" class=\"data row31 col4\" >1.012869</td>\n",
       "    </tr>\n",
       "    <tr>\n",
       "      <th id=\"T_c0b82_level0_row32\" class=\"row_heading level0 row32\" >Sikkim</th>\n",
       "      <td id=\"T_c0b82_row32_col0\" class=\"data row32 col0\" >11689.000000</td>\n",
       "      <td id=\"T_c0b82_row32_col1\" class=\"data row32 col1\" >8427.000000</td>\n",
       "      <td id=\"T_c0b82_row32_col2\" class=\"data row32 col2\" >212.000000</td>\n",
       "      <td id=\"T_c0b82_row32_col3\" class=\"data row32 col3\" >72.093421</td>\n",
       "      <td id=\"T_c0b82_row32_col4\" class=\"data row32 col4\" >1.813671</td>\n",
       "    </tr>\n",
       "    <tr>\n",
       "      <th id=\"T_c0b82_level0_row33\" class=\"row_heading level0 row33\" >Dadra and Nagar Haveli and Daman and Diu</th>\n",
       "      <td id=\"T_c0b82_row33_col0\" class=\"data row33 col0\" >9652.000000</td>\n",
       "      <td id=\"T_c0b82_row33_col1\" class=\"data row33 col1\" >8944.000000</td>\n",
       "      <td id=\"T_c0b82_row33_col2\" class=\"data row33 col2\" >4.000000</td>\n",
       "      <td id=\"T_c0b82_row33_col3\" class=\"data row33 col3\" >92.664733</td>\n",
       "      <td id=\"T_c0b82_row33_col4\" class=\"data row33 col4\" >0.041442</td>\n",
       "    </tr>\n",
       "    <tr>\n",
       "      <th id=\"T_c0b82_level0_row34\" class=\"row_heading level0 row34\" >Cases being reassigned to states</th>\n",
       "      <td id=\"T_c0b82_row34_col0\" class=\"data row34 col0\" >9265.000000</td>\n",
       "      <td id=\"T_c0b82_row34_col1\" class=\"data row34 col1\" >0.000000</td>\n",
       "      <td id=\"T_c0b82_row34_col2\" class=\"data row34 col2\" >0.000000</td>\n",
       "      <td id=\"T_c0b82_row34_col3\" class=\"data row34 col3\" >0.000000</td>\n",
       "      <td id=\"T_c0b82_row34_col4\" class=\"data row34 col4\" >0.000000</td>\n",
       "    </tr>\n",
       "    <tr>\n",
       "      <th id=\"T_c0b82_level0_row35\" class=\"row_heading level0 row35\" >Mizoram</th>\n",
       "      <td id=\"T_c0b82_row35_col0\" class=\"data row35 col0\" >9252.000000</td>\n",
       "      <td id=\"T_c0b82_row35_col1\" class=\"data row35 col1\" >7094.000000</td>\n",
       "      <td id=\"T_c0b82_row35_col2\" class=\"data row35 col2\" >29.000000</td>\n",
       "      <td id=\"T_c0b82_row35_col3\" class=\"data row35 col3\" >76.675313</td>\n",
       "      <td id=\"T_c0b82_row35_col4\" class=\"data row35 col4\" >0.313446</td>\n",
       "    </tr>\n",
       "    <tr>\n",
       "      <th id=\"T_c0b82_level0_row36\" class=\"row_heading level0 row36\" >Andaman and Nicobar Islands</th>\n",
       "      <td id=\"T_c0b82_row36_col0\" class=\"data row36 col0\" >6674.000000</td>\n",
       "      <td id=\"T_c0b82_row36_col1\" class=\"data row36 col1\" >6359.000000</td>\n",
       "      <td id=\"T_c0b82_row36_col2\" class=\"data row36 col2\" >92.000000</td>\n",
       "      <td id=\"T_c0b82_row36_col3\" class=\"data row36 col3\" >95.280192</td>\n",
       "      <td id=\"T_c0b82_row36_col4\" class=\"data row36 col4\" >1.378484</td>\n",
       "    </tr>\n",
       "    <tr>\n",
       "      <th id=\"T_c0b82_level0_row37\" class=\"row_heading level0 row37\" >Lakshadweep</th>\n",
       "      <td id=\"T_c0b82_row37_col0\" class=\"data row37 col0\" >5212.000000</td>\n",
       "      <td id=\"T_c0b82_row37_col1\" class=\"data row37 col1\" >3915.000000</td>\n",
       "      <td id=\"T_c0b82_row37_col2\" class=\"data row37 col2\" >15.000000</td>\n",
       "      <td id=\"T_c0b82_row37_col3\" class=\"data row37 col3\" >75.115119</td>\n",
       "      <td id=\"T_c0b82_row37_col4\" class=\"data row37 col4\" >0.287797</td>\n",
       "    </tr>\n",
       "    <tr>\n",
       "      <th id=\"T_c0b82_level0_row38\" class=\"row_heading level0 row38\" >Unassigned</th>\n",
       "      <td id=\"T_c0b82_row38_col0\" class=\"data row38 col0\" >77.000000</td>\n",
       "      <td id=\"T_c0b82_row38_col1\" class=\"data row38 col1\" >0.000000</td>\n",
       "      <td id=\"T_c0b82_row38_col2\" class=\"data row38 col2\" >0.000000</td>\n",
       "      <td id=\"T_c0b82_row38_col3\" class=\"data row38 col3\" >0.000000</td>\n",
       "      <td id=\"T_c0b82_row38_col4\" class=\"data row38 col4\" >0.000000</td>\n",
       "    </tr>\n",
       "    <tr>\n",
       "      <th id=\"T_c0b82_level0_row39\" class=\"row_heading level0 row39\" >Daman & Diu</th>\n",
       "      <td id=\"T_c0b82_row39_col0\" class=\"data row39 col0\" >2.000000</td>\n",
       "      <td id=\"T_c0b82_row39_col1\" class=\"data row39 col1\" >0.000000</td>\n",
       "      <td id=\"T_c0b82_row39_col2\" class=\"data row39 col2\" >0.000000</td>\n",
       "      <td id=\"T_c0b82_row39_col3\" class=\"data row39 col3\" >0.000000</td>\n",
       "      <td id=\"T_c0b82_row39_col4\" class=\"data row39 col4\" >0.000000</td>\n",
       "    </tr>\n",
       "  </tbody>\n",
       "</table>\n"
      ],
      "text/plain": [
       "<pandas.io.formats.style.Styler at 0x7f853cf3c7d0>"
      ]
     },
     "execution_count": 19,
     "metadata": {},
     "output_type": "execute_result"
    }
   ],
   "source": [
    "statewise.style.background_gradient(cmap = \"cubehelix\")"
   ]
  },
  {
   "cell_type": "code",
   "execution_count": 20,
   "id": "9c93c76c",
   "metadata": {
    "execution": {
     "iopub.execute_input": "2023-01-23T07:42:29.412596Z",
     "iopub.status.busy": "2023-01-23T07:42:29.412071Z",
     "iopub.status.idle": "2023-01-23T07:42:29.431193Z",
     "shell.execute_reply": "2023-01-23T07:42:29.429357Z"
    },
    "papermill": {
     "duration": 0.035987,
     "end_time": "2023-01-23T07:42:29.434452",
     "exception": false,
     "start_time": "2023-01-23T07:42:29.398465",
     "status": "completed"
    },
    "tags": []
   },
   "outputs": [],
   "source": [
    "# Top 10 active cases states\n",
    "\n",
    "top_10_active_cases = covid_df.groupby(by = 'State/UnionTerritory').max()[['Active_Cases','Date']].sort_values(by = ['Active_Cases'],ascending = False).reset_index()"
   ]
  },
  {
   "cell_type": "code",
   "execution_count": 21,
   "id": "ea595ca8",
   "metadata": {
    "execution": {
     "iopub.execute_input": "2023-01-23T07:42:29.460458Z",
     "iopub.status.busy": "2023-01-23T07:42:29.459810Z",
     "iopub.status.idle": "2023-01-23T07:42:29.479051Z",
     "shell.execute_reply": "2023-01-23T07:42:29.477681Z"
    },
    "papermill": {
     "duration": 0.035669,
     "end_time": "2023-01-23T07:42:29.482074",
     "exception": false,
     "start_time": "2023-01-23T07:42:29.446405",
     "status": "completed"
    },
    "tags": []
   },
   "outputs": [
    {
     "data": {
      "text/plain": [
       "<Figure size 1152x648 with 0 Axes>"
      ]
     },
     "metadata": {},
     "output_type": "display_data"
    }
   ],
   "source": [
    "fig = plt.figure(figsize=(16,9))"
   ]
  },
  {
   "cell_type": "code",
   "execution_count": 22,
   "id": "2a9b4347",
   "metadata": {
    "execution": {
     "iopub.execute_input": "2023-01-23T07:42:29.510625Z",
     "iopub.status.busy": "2023-01-23T07:42:29.508763Z",
     "iopub.status.idle": "2023-01-23T07:42:29.716239Z",
     "shell.execute_reply": "2023-01-23T07:42:29.714938Z"
    },
    "papermill": {
     "duration": 0.224029,
     "end_time": "2023-01-23T07:42:29.719199",
     "exception": false,
     "start_time": "2023-01-23T07:42:29.495170",
     "status": "completed"
    },
    "tags": []
   },
   "outputs": [
    {
     "data": {
      "text/plain": [
       "Text(0.5, 1.0, 'Top 10 states with most active cases in India')"
      ]
     },
     "execution_count": 22,
     "metadata": {},
     "output_type": "execute_result"
    },
    {
     "data": {
      "image/png": "[encoded data removed]",
      "text/plain": [
       "<Figure size 432x288 with 1 Axes>"
      ]
     },
     "metadata": {
      "needs_background": "light"
     },
     "output_type": "display_data"
    }
   ],
   "source": [
    "plt.title(\"Top 10 states with most active cases in India\",size=25)"
   ]
  },
  {
   "cell_type": "code",
   "execution_count": 23,
   "id": "abef7f94",
   "metadata": {
    "execution": {
     "iopub.execute_input": "2023-01-23T07:42:29.746005Z",
     "iopub.status.busy": "2023-01-23T07:42:29.745475Z",
     "iopub.status.idle": "2023-01-23T07:42:30.049268Z",
     "shell.execute_reply": "2023-01-23T07:42:30.047789Z"
    },
    "papermill": {
     "duration": 0.320678,
     "end_time": "2023-01-23T07:42:30.052247",
     "exception": false,
     "start_time": "2023-01-23T07:42:29.731569",
     "status": "completed"
    },
    "tags": []
   },
   "outputs": [
    {
     "data": {
      "image/png": "[encoded data removed]",
      "text/plain": [
       "<Figure size 432x288 with 1 Axes>"
      ]
     },
     "metadata": {
      "needs_background": "light"
     },
     "output_type": "display_data"
    }
   ],
   "source": [
    "ax = sns.barplot(data=top_10_active_cases.iloc[:10],y=\"Active_Cases\",x=\"State/UnionTerritory\",linewidth=2,edgecolor = 'red')"
   ]
  },
  {
   "cell_type": "code",
   "execution_count": 24,
   "id": "cb516865",
   "metadata": {
    "execution": {
     "iopub.execute_input": "2023-01-23T07:42:30.081473Z",
     "iopub.status.busy": "2023-01-23T07:42:30.080953Z",
     "iopub.status.idle": "2023-01-23T07:42:30.401803Z",
     "shell.execute_reply": "2023-01-23T07:42:30.400241Z"
    },
    "papermill": {
     "duration": 0.339551,
     "end_time": "2023-01-23T07:42:30.405300",
     "exception": false,
     "start_time": "2023-01-23T07:42:30.065749",
     "status": "completed"
    },
    "tags": []
   },
   "outputs": [
    {
     "data": {
      "image/png": "[encoded data removed]",
      "text/plain": [
       "<Figure size 1152x648 with 1 Axes>"
      ]
     },
     "metadata": {
      "needs_background": "light"
     },
     "output_type": "display_data"
    }
   ],
   "source": [
    "# Top 10 active cases states\n",
    "\n",
    "top_10_active_cases = covid_df.groupby(by = 'State/UnionTerritory').max()[['Active_Cases','Date']].sort_values(by = ['Active_Cases'],ascending = False).reset_index()\n",
    "fig = plt.figure(figsize=(16,9))\n",
    "plt.title(\"Top 10 states with most active cases in India\",size=25)\n",
    "ax = sns.barplot(data=top_10_active_cases.iloc[:10],y=\"Active_Cases\",x=\"State/UnionTerritory\",linewidth=2,edgecolor = 'red')\n",
    "\n",
    "plt.xlabel(\"States\")\n",
    "plt.ylabel(\"Total Active Cases\")\n",
    "plt.show()"
   ]
  },
  {
   "cell_type": "code",
   "execution_count": 25,
   "id": "e78c5b4e",
   "metadata": {
    "execution": {
     "iopub.execute_input": "2023-01-23T07:42:30.434539Z",
     "iopub.status.busy": "2023-01-23T07:42:30.434013Z",
     "iopub.status.idle": "2023-01-23T07:42:30.747924Z",
     "shell.execute_reply": "2023-01-23T07:42:30.746637Z"
    },
    "papermill": {
     "duration": 0.331701,
     "end_time": "2023-01-23T07:42:30.750639",
     "exception": false,
     "start_time": "2023-01-23T07:42:30.418938",
     "status": "completed"
    },
    "tags": []
   },
   "outputs": [
    {
     "data": {
      "image/png": "[encoded data removed]",
      "text/plain": [
       "<Figure size 1296x360 with 1 Axes>"
      ]
     },
     "metadata": {
      "needs_background": "light"
     },
     "output_type": "display_data"
    }
   ],
   "source": [
    "# Top states with highest deaths\n",
    "\n",
    "top_10_deaths = covid_df.groupby(by = 'State/UnionTerritory').max()[['Deaths','Date']].sort_values (by = ['Deaths'], ascending= False).reset_index()\n",
    "\n",
    "fig = plt.figure(figsize=(18,5))\n",
    "\n",
    "plt.title(\"Top 10 states with most Deaths\",size=25)\n",
    "\n",
    "ax = sns.barplot(data = top_10_deaths.iloc[:12],y=\"Deaths\", x=\"State/UnionTerritory\",linewidth = 2, edgecolor = 'black')\n",
    "\n",
    "plt.xlabel(\"States\")\n",
    "plt.ylabel(\"Total Death Cases\")\n",
    "plt.show()"
   ]
  },
  {
   "cell_type": "code",
   "execution_count": 26,
   "id": "e0ec75cf",
   "metadata": {
    "execution": {
     "iopub.execute_input": "2023-01-23T07:42:30.779735Z",
     "iopub.status.busy": "2023-01-23T07:42:30.779175Z",
     "iopub.status.idle": "2023-01-23T07:42:30.788571Z",
     "shell.execute_reply": "2023-01-23T07:42:30.786763Z"
    },
    "papermill": {
     "duration": 0.026729,
     "end_time": "2023-01-23T07:42:30.790998",
     "exception": true,
     "start_time": "2023-01-23T07:42:30.764269",
     "status": "failed"
    },
    "tags": []
   },
   "outputs": [
    {
     "ename": "SyntaxError",
     "evalue": "invalid syntax (3193395123.py, line 5)",
     "output_type": "error",
     "traceback": [
      "\u001b[0;36m  File \u001b[0;32m\"/tmp/ipykernel_19/3193395123.py\"\u001b[0;36m, line \u001b[0;32m5\u001b[0m\n\u001b[0;31m    ax = sns.lineplot(data = covid_df[covid_df['State/UnionTerritory'].isin(['Maharashtra','Karnataka','Kerala','Tamil Nadu','Uttar Pradesh']), x='Date' , y='Active_Cases', hue='State/UnionTerritory'])\u001b[0m\n\u001b[0m                                                                                                                                                 ^\u001b[0m\n\u001b[0;31mSyntaxError\u001b[0m\u001b[0;31m:\u001b[0m invalid syntax\n"
     ]
    }
   ],
   "source": [
    "# Growth Trend\n",
    "\n",
    "fig = plt.figure(figsize = (12,6))\n",
    "\n",
    "ax = sns.lineplot(data = covid_df[covid_df['State/UnionTerritory'].isin(['Maharashtra','Karnataka','Kerala','Tamil Nadu','Uttar Pradesh']), x='Date' , y='Active_Cases', hue='State/UnionTerritory'])\n",
    "\n",
    "ax.set_title(\"Top 5 Affected States in India\",size=16)\n",
    "\n"
   ]
  },
  {
   "cell_type": "code",
   "execution_count": null,
   "id": "f5d08a86",
   "metadata": {
    "execution": {
     "iopub.execute_input": "2023-01-23T07:21:28.761464Z",
     "iopub.status.busy": "2023-01-23T07:21:28.761061Z",
     "iopub.status.idle": "2023-01-23T07:21:28.775540Z",
     "shell.execute_reply": "2023-01-23T07:21:28.774493Z",
     "shell.execute_reply.started": "2023-01-23T07:21:28.761429Z"
    },
    "papermill": {
     "duration": null,
     "end_time": null,
     "exception": null,
     "start_time": null,
     "status": "pending"
    },
    "tags": []
   },
   "outputs": [],
   "source": [
    "vaccine_df.head()"
   ]
  },
  {
   "cell_type": "code",
   "execution_count": null,
   "id": "21656f36",
   "metadata": {
    "execution": {
     "iopub.execute_input": "2023-01-23T07:24:38.841357Z",
     "iopub.status.busy": "2023-01-23T07:24:38.840799Z",
     "iopub.status.idle": "2023-01-23T07:24:38.859792Z",
     "shell.execute_reply": "2023-01-23T07:24:38.858610Z",
     "shell.execute_reply.started": "2023-01-23T07:24:38.841310Z"
    },
    "papermill": {
     "duration": null,
     "end_time": null,
     "exception": null,
     "start_time": null,
     "status": "pending"
    },
    "tags": []
   },
   "outputs": [],
   "source": [
    "vaccine_df.info()"
   ]
  },
  {
   "cell_type": "code",
   "execution_count": null,
   "id": "fdcf25ba",
   "metadata": {
    "execution": {
     "iopub.execute_input": "2023-01-23T07:30:53.287459Z",
     "iopub.status.busy": "2023-01-23T07:30:53.287034Z",
     "iopub.status.idle": "2023-01-23T07:30:53.301301Z",
     "shell.execute_reply": "2023-01-23T07:30:53.300173Z",
     "shell.execute_reply.started": "2023-01-23T07:30:53.287425Z"
    },
    "papermill": {
     "duration": null,
     "end_time": null,
     "exception": null,
     "start_time": null,
     "status": "pending"
    },
    "tags": []
   },
   "outputs": [],
   "source": [
    "vaccine_df.rename(columns = {\"State Name\" : \"State\"},inplace = True)\n",
    "vaccine_df.head()"
   ]
  },
  {
   "cell_type": "code",
   "execution_count": null,
   "id": "e1aa08e2",
   "metadata": {
    "execution": {
     "iopub.execute_input": "2023-01-23T07:31:52.672627Z",
     "iopub.status.busy": "2023-01-23T07:31:52.671606Z",
     "iopub.status.idle": "2023-01-23T07:31:52.693328Z",
     "shell.execute_reply": "2023-01-23T07:31:52.692172Z",
     "shell.execute_reply.started": "2023-01-23T07:31:52.672570Z"
    },
    "papermill": {
     "duration": null,
     "end_time": null,
     "exception": null,
     "start_time": null,
     "status": "pending"
    },
    "tags": []
   },
   "outputs": [],
   "source": [
    "vaccine = vaccine_df[vaccine_df.State!='India']\n",
    "vaccine"
   ]
  },
  {
   "cell_type": "code",
   "execution_count": null,
   "id": "11ddbfcf",
   "metadata": {
    "execution": {
     "iopub.execute_input": "2023-01-23T07:33:05.552874Z",
     "iopub.status.busy": "2023-01-23T07:33:05.552493Z",
     "iopub.status.idle": "2023-01-23T07:33:05.566571Z",
     "shell.execute_reply": "2023-01-23T07:33:05.565287Z",
     "shell.execute_reply.started": "2023-01-23T07:33:05.552844Z"
    },
    "papermill": {
     "duration": null,
     "end_time": null,
     "exception": null,
     "start_time": null,
     "status": "pending"
    },
    "tags": []
   },
   "outputs": [],
   "source": [
    "vaccine.rename(columns = {\"Total Vaccine Doses\" : \"Total\"},inplace = True)\n",
    "vaccine.head()"
   ]
  },
  {
   "cell_type": "code",
   "execution_count": null,
   "id": "9b5d6a59",
   "metadata": {
    "execution": {
     "iopub.execute_input": "2023-01-23T07:35:45.368787Z",
     "iopub.status.busy": "2023-01-23T07:35:45.368395Z",
     "iopub.status.idle": "2023-01-23T07:35:45.383612Z",
     "shell.execute_reply": "2023-01-23T07:35:45.381999Z",
     "shell.execute_reply.started": "2023-01-23T07:35:45.368757Z"
    },
    "papermill": {
     "duration": null,
     "end_time": null,
     "exception": null,
     "start_time": null,
     "status": "pending"
    },
    "tags": []
   },
   "outputs": [],
   "source": [
    "# Most vaccinated states\n",
    "\n",
    "max_vac = vaccine.groupby('State')['Total'].sum().to_frame('Total')\n",
    "max_vac = max_vac.sort_values('Total',ascending = False)[:5]\n",
    "max_vac "
   ]
  },
  {
   "cell_type": "code",
   "execution_count": null,
   "id": "431c6645",
   "metadata": {
    "execution": {
     "iopub.execute_input": "2023-01-23T07:40:00.722966Z",
     "iopub.status.busy": "2023-01-23T07:40:00.722427Z",
     "iopub.status.idle": "2023-01-23T07:40:00.952599Z",
     "shell.execute_reply": "2023-01-23T07:40:00.951178Z",
     "shell.execute_reply.started": "2023-01-23T07:40:00.722919Z"
    },
    "papermill": {
     "duration": null,
     "end_time": null,
     "exception": null,
     "start_time": null,
     "status": "pending"
    },
    "tags": []
   },
   "outputs": [],
   "source": [
    "fig = plt.figure(figsize = (10,5))\n",
    "plt.title(\"Top 5 Vaccinated States in India\",size=20)\n",
    "x = sns.barplot(data = max_vac.iloc[:10], y = max_vac.Total, x=max_vac.index, linewidth=2, edgecolor= 'black')\n",
    "plt.xlabel(\"States\")\n",
    "plt.ylabel(\"Vaccination\")\n",
    "plt.show()"
   ]
  },
  {
   "cell_type": "code",
   "execution_count": null,
   "id": "97e073be",
   "metadata": {
    "papermill": {
     "duration": null,
     "end_time": null,
     "exception": null,
     "start_time": null,
     "status": "pending"
    },
    "tags": []
   },
   "outputs": [],
   "source": []
  }
 ],
 "metadata": {
  "kernelspec": {
   "display_name": "Python 3",
   "language": "python",
   "name": "python3"
  },
  "language_info": {
   "codemirror_mode": {
    "name": "ipython",
    "version": 3
   },
   "file_extension": ".py",
   "mimetype": "text/x-python",
   "name": "python",
   "nbconvert_exporter": "python",
   "pygments_lexer": "ipython3",
   "version": "3.7.12"
  },
  "papermill": {
   "default_parameters": {},
   "duration": 16.395379,
   "end_time": "2023-01-23T07:42:32.032487",
   "environment_variables": {},
   "exception": true,
   "input_path": "__notebook__.ipynb",
   "output_path": "__notebook__.ipynb",
   "parameters": {},
   "start_time": "2023-01-23T07:42:15.637108",
   "version": "2.3.4"
  }
 },
 "nbformat": 4,
 "nbformat_minor": 5
}
