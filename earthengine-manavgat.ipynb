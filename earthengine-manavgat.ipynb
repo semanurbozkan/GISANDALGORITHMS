{
 "cells": [
  {
   "cell_type": "code",
   "execution_count": 1,
   "id": "e13a5d28",
   "metadata": {
    "_cell_guid": "b1076dfc-b9ad-4769-8c92-a6c4dae69d19",
    "_uuid": "8f2839f25d086af736a60e9eeb907d3b93b6e0e5",
    "execution": {
     "iopub.execute_input": "2023-02-05T17:26:47.704487Z",
     "iopub.status.busy": "2023-02-05T17:26:47.703960Z",
     "iopub.status.idle": "2023-02-05T17:26:48.754623Z",
     "shell.execute_reply": "2023-02-05T17:26:48.753546Z"
    },
    "papermill": {
     "duration": 1.062707,
     "end_time": "2023-02-05T17:26:48.757765",
     "exception": false,
     "start_time": "2023-02-05T17:26:47.695058",
     "status": "completed"
    },
    "tags": []
   },
   "outputs": [
    {
     "name": "stderr",
     "output_type": "stream",
     "text": [
      "/opt/conda/lib/python3.7/site-packages/geopandas/_compat.py:115: UserWarning: The Shapely GEOS version (3.9.1-CAPI-1.14.2) is incompatible with the GEOS version PyGEOS was compiled with (3.10.1-CAPI-1.16.0). Conversions between both will be slow.\n",
      "  shapely_geos_version, geos_capi_version_string\n"
     ]
    }
   ],
   "source": [
    "# the regulars\n",
    "import pandas as pd\n",
    "import geopandas as gpd\n",
    "\n",
    "# earth engine\n",
    "import ee\n",
    "\n",
    "# allow images to display in the notebook\n",
    "from IPython.display import Image"
   ]
  },
  {
   "cell_type": "code",
   "execution_count": 2,
   "id": "47d050cc",
   "metadata": {
    "execution": {
     "iopub.execute_input": "2023-02-05T17:26:48.772962Z",
     "iopub.status.busy": "2023-02-05T17:26:48.772626Z",
     "iopub.status.idle": "2023-02-05T17:26:48.857983Z",
     "shell.execute_reply": "2023-02-05T17:26:48.856616Z"
    },
    "papermill": {
     "duration": 0.096112,
     "end_time": "2023-02-05T17:26:48.860488",
     "exception": true,
     "start_time": "2023-02-05T17:26:48.764376",
     "status": "failed"
    },
    "tags": []
   },
   "outputs": [
    {
     "data": {
      "text/html": [
       "<p>To authorize access needed by Earth Engine, open the following\n",
       "        URL in a web browser and follow the instructions:</p>\n",
       "        <p><a href=https://code.earthengine.google.com/client-auth?scopes=https%3A//www.googleapis.com/auth/earthengine%20https%3A//www.googleapis.com/auth/devstorage.full_control&request_id=TxV7fRadLum3K0eSDEk_XK0WqBHeQMmQA0Gpcb7faTY&tc=OZ-M37ukn-LKg1zWapbuZLrZmLLt2jO8mgk1XdsovQ0&cc=2Sl12yyWHBImUGDGzNZSZdZAuT65Jfpume3enUVpsBQ>https://code.earthengine.google.com/client-auth?scopes=https%3A//www.googleapis.com/auth/earthengine%20https%3A//www.googleapis.com/auth/devstorage.full_control&request_id=TxV7fRadLum3K0eSDEk_XK0WqBHeQMmQA0Gpcb7faTY&tc=OZ-M37ukn-LKg1zWapbuZLrZmLLt2jO8mgk1XdsovQ0&cc=2Sl12yyWHBImUGDGzNZSZdZAuT65Jfpume3enUVpsBQ</a></p>\n",
       "        <p>The authorization workflow will generate a code, which you should paste in the box below.</p>\n",
       "        "
      ],
      "text/plain": [
       "<IPython.core.display.HTML object>"
      ]
     },
     "metadata": {},
     "output_type": "display_data"
    },
    {
     "ename": "StdinNotImplementedError",
     "evalue": "raw_input was called, but this frontend does not support input requests.",
     "output_type": "error",
     "traceback": [
      "\u001b[0;31m---------------------------------------------------------------------------\u001b[0m",
      "\u001b[0;31mStdinNotImplementedError\u001b[0m                  Traceback (most recent call last)",
      "\u001b[0;32m/tmp/ipykernel_19/2886432879.py\u001b[0m in \u001b[0;36m<module>\u001b[0;34m\u001b[0m\n\u001b[1;32m      1\u001b[0m \u001b[0;31m# Trigger the authentication flow.\u001b[0m\u001b[0;34m\u001b[0m\u001b[0;34m\u001b[0m\u001b[0;34m\u001b[0m\u001b[0m\n\u001b[0;32m----> 2\u001b[0;31m \u001b[0mee\u001b[0m\u001b[0;34m.\u001b[0m\u001b[0mAuthenticate\u001b[0m\u001b[0;34m(\u001b[0m\u001b[0;34m)\u001b[0m\u001b[0;34m\u001b[0m\u001b[0;34m\u001b[0m\u001b[0m\n\u001b[0m\u001b[1;32m      3\u001b[0m \u001b[0;34m\u001b[0m\u001b[0m\n\u001b[1;32m      4\u001b[0m \u001b[0;31m# Initialize the library.\u001b[0m\u001b[0;34m\u001b[0m\u001b[0;34m\u001b[0m\u001b[0;34m\u001b[0m\u001b[0m\n\u001b[1;32m      5\u001b[0m \u001b[0mee\u001b[0m\u001b[0;34m.\u001b[0m\u001b[0mInitialize\u001b[0m\u001b[0;34m(\u001b[0m\u001b[0;34m)\u001b[0m\u001b[0;34m\u001b[0m\u001b[0;34m\u001b[0m\u001b[0m\n",
      "\u001b[0;32m/opt/conda/lib/python3.7/site-packages/ee/__init__.py\u001b[0m in \u001b[0;36mAuthenticate\u001b[0;34m(authorization_code, quiet, code_verifier, auth_mode, scopes)\u001b[0m\n\u001b[1;32m    103\u001b[0m   \"\"\"\n\u001b[1;32m    104\u001b[0m   return oauth.authenticate(authorization_code, quiet, code_verifier, auth_mode,\n\u001b[0;32m--> 105\u001b[0;31m                             scopes)\n\u001b[0m\u001b[1;32m    106\u001b[0m \u001b[0;34m\u001b[0m\u001b[0m\n\u001b[1;32m    107\u001b[0m \u001b[0;34m\u001b[0m\u001b[0m\n",
      "\u001b[0;32m/opt/conda/lib/python3.7/site-packages/ee/oauth.py\u001b[0m in \u001b[0;36mauthenticate\u001b[0;34m(cli_authorization_code, quiet, cli_code_verifier, auth_mode, scopes)\u001b[0m\n\u001b[1;32m    387\u001b[0m     \u001b[0m_open_new_browser\u001b[0m\u001b[0;34m(\u001b[0m\u001b[0mflow\u001b[0m\u001b[0;34m.\u001b[0m\u001b[0mauth_url\u001b[0m\u001b[0;34m)\u001b[0m\u001b[0;34m\u001b[0m\u001b[0;34m\u001b[0m\u001b[0m\n\u001b[1;32m    388\u001b[0m \u001b[0;34m\u001b[0m\u001b[0m\n\u001b[0;32m--> 389\u001b[0;31m   \u001b[0mflow\u001b[0m\u001b[0;34m.\u001b[0m\u001b[0msave_code\u001b[0m\u001b[0;34m(\u001b[0m\u001b[0;34m)\u001b[0m\u001b[0;34m\u001b[0m\u001b[0;34m\u001b[0m\u001b[0m\n\u001b[0m\u001b[1;32m    390\u001b[0m \u001b[0;34m\u001b[0m\u001b[0m\n\u001b[1;32m    391\u001b[0m \u001b[0;34m\u001b[0m\u001b[0m\n",
      "\u001b[0;32m/opt/conda/lib/python3.7/site-packages/ee/oauth.py\u001b[0m in \u001b[0;36msave_code\u001b[0;34m(self, code)\u001b[0m\n\u001b[1;32m    430\u001b[0m       \u001b[0mredirect_uri\u001b[0m \u001b[0;34m=\u001b[0m \u001b[0mself\u001b[0m\u001b[0;34m.\u001b[0m\u001b[0mserver\u001b[0m\u001b[0;34m.\u001b[0m\u001b[0murl\u001b[0m\u001b[0;34m\u001b[0m\u001b[0;34m\u001b[0m\u001b[0m\n\u001b[1;32m    431\u001b[0m       \u001b[0mcode\u001b[0m \u001b[0;34m=\u001b[0m \u001b[0mself\u001b[0m\u001b[0;34m.\u001b[0m\u001b[0mserver\u001b[0m\u001b[0;34m.\u001b[0m\u001b[0mfetch_code\u001b[0m\u001b[0;34m(\u001b[0m\u001b[0;34m)\u001b[0m  \u001b[0;31m# Waits for oauth callback\u001b[0m\u001b[0;34m\u001b[0m\u001b[0;34m\u001b[0m\u001b[0m\n\u001b[0;32m--> 432\u001b[0;31m     \u001b[0m_obtain_and_write_token\u001b[0m\u001b[0;34m(\u001b[0m\u001b[0mcode\u001b[0m\u001b[0;34m,\u001b[0m \u001b[0mself\u001b[0m\u001b[0;34m.\u001b[0m\u001b[0mcode_verifier\u001b[0m\u001b[0;34m,\u001b[0m \u001b[0mself\u001b[0m\u001b[0;34m.\u001b[0m\u001b[0mscopes\u001b[0m\u001b[0;34m,\u001b[0m \u001b[0mredirect_uri\u001b[0m\u001b[0;34m)\u001b[0m\u001b[0;34m\u001b[0m\u001b[0;34m\u001b[0m\u001b[0m\n\u001b[0m\u001b[1;32m    433\u001b[0m \u001b[0;34m\u001b[0m\u001b[0m\n\u001b[1;32m    434\u001b[0m   \u001b[0;32mdef\u001b[0m \u001b[0mdisplay_instructions\u001b[0m\u001b[0;34m(\u001b[0m\u001b[0mself\u001b[0m\u001b[0;34m,\u001b[0m \u001b[0mquiet\u001b[0m\u001b[0;34m=\u001b[0m\u001b[0;32mNone\u001b[0m\u001b[0;34m)\u001b[0m\u001b[0;34m:\u001b[0m\u001b[0;34m\u001b[0m\u001b[0;34m\u001b[0m\u001b[0m\n",
      "\u001b[0;32m/opt/conda/lib/python3.7/site-packages/ee/oauth.py\u001b[0m in \u001b[0;36m_obtain_and_write_token\u001b[0;34m(auth_code, code_verifier, scopes, redirect_uri)\u001b[0m\n\u001b[1;32m    179\u001b[0m     \u001b[0mclient_info\u001b[0m\u001b[0;34m[\u001b[0m\u001b[0;34m'redirect_uri'\u001b[0m\u001b[0;34m]\u001b[0m \u001b[0;34m=\u001b[0m \u001b[0mredirect_uri\u001b[0m\u001b[0;34m\u001b[0m\u001b[0;34m\u001b[0m\u001b[0m\n\u001b[1;32m    180\u001b[0m   \u001b[0;32mif\u001b[0m \u001b[0;32mnot\u001b[0m \u001b[0mauth_code\u001b[0m\u001b[0;34m:\u001b[0m\u001b[0;34m\u001b[0m\u001b[0;34m\u001b[0m\u001b[0m\n\u001b[0;32m--> 181\u001b[0;31m     \u001b[0mauth_code\u001b[0m \u001b[0;34m=\u001b[0m \u001b[0minput\u001b[0m\u001b[0;34m(\u001b[0m\u001b[0;34m'Enter verification code: '\u001b[0m\u001b[0;34m)\u001b[0m\u001b[0;34m\u001b[0m\u001b[0;34m\u001b[0m\u001b[0m\n\u001b[0m\u001b[1;32m    182\u001b[0m   \u001b[0;32massert\u001b[0m \u001b[0misinstance\u001b[0m\u001b[0;34m(\u001b[0m\u001b[0mauth_code\u001b[0m\u001b[0;34m,\u001b[0m \u001b[0msix\u001b[0m\u001b[0;34m.\u001b[0m\u001b[0mstring_types\u001b[0m\u001b[0;34m)\u001b[0m\u001b[0;34m\u001b[0m\u001b[0;34m\u001b[0m\u001b[0m\n\u001b[1;32m    183\u001b[0m   \u001b[0mscopes\u001b[0m \u001b[0;34m=\u001b[0m \u001b[0mscopes\u001b[0m \u001b[0;32mor\u001b[0m \u001b[0mSCOPES\u001b[0m\u001b[0;34m\u001b[0m\u001b[0;34m\u001b[0m\u001b[0m\n",
      "\u001b[0;32m/opt/conda/lib/python3.7/site-packages/ipykernel/kernelbase.py\u001b[0m in \u001b[0;36mraw_input\u001b[0;34m(self, prompt)\u001b[0m\n\u001b[1;32m   1173\u001b[0m         \u001b[0;32mif\u001b[0m \u001b[0;32mnot\u001b[0m \u001b[0mself\u001b[0m\u001b[0;34m.\u001b[0m\u001b[0m_allow_stdin\u001b[0m\u001b[0;34m:\u001b[0m\u001b[0;34m\u001b[0m\u001b[0;34m\u001b[0m\u001b[0m\n\u001b[1;32m   1174\u001b[0m             raise StdinNotImplementedError(\n\u001b[0;32m-> 1175\u001b[0;31m                 \u001b[0;34m\"raw_input was called, but this frontend does not support input requests.\"\u001b[0m\u001b[0;34m\u001b[0m\u001b[0;34m\u001b[0m\u001b[0m\n\u001b[0m\u001b[1;32m   1176\u001b[0m             )\n\u001b[1;32m   1177\u001b[0m         return self._input_request(\n",
      "\u001b[0;31mStdinNotImplementedError\u001b[0m: raw_input was called, but this frontend does not support input requests."
     ]
    }
   ],
   "source": [
    "# Trigger the authentication flow.\n",
    "ee.Authenticate()\n",
    "\n",
    "# Initialize the library.\n",
    "ee.Initialize()"
   ]
  },
  {
   "cell_type": "code",
   "execution_count": null,
   "id": "b3d58945",
   "metadata": {
    "execution": {
     "iopub.execute_input": "2022-08-23T07:33:59.152502Z",
     "iopub.status.busy": "2022-08-23T07:33:59.152107Z",
     "iopub.status.idle": "2022-08-23T07:33:59.158325Z",
     "shell.execute_reply": "2022-08-23T07:33:59.156756Z",
     "shell.execute_reply.started": "2022-08-23T07:33:59.152470Z"
    },
    "papermill": {
     "duration": null,
     "end_time": null,
     "exception": null,
     "start_time": null,
     "status": "pending"
    },
    "tags": []
   },
   "outputs": [],
   "source": [
    "lat =  36.786667\n",
    "lon = 31.4425\n",
    "\n",
    "# point of interest as an ee.Geometry\n",
    "poi = ee.Geometry.Point(lon,lat)\n",
    "\n",
    "# start date of range to filter for\n",
    "start_date = '2021-07-15'\n",
    "\n",
    "# end date\n",
    "end_date = '2021-08-31'"
   ]
  },
  {
   "cell_type": "code",
   "execution_count": null,
   "id": "67db510a",
   "metadata": {
    "execution": {
     "iopub.execute_input": "2022-08-23T07:34:02.307599Z",
     "iopub.status.busy": "2022-08-23T07:34:02.307194Z",
     "iopub.status.idle": "2022-08-23T07:34:02.312692Z",
     "shell.execute_reply": "2022-08-23T07:34:02.311813Z",
     "shell.execute_reply.started": "2022-08-23T07:34:02.307567Z"
    },
    "papermill": {
     "duration": null,
     "end_time": null,
     "exception": null,
     "start_time": null,
     "status": "pending"
    },
    "tags": []
   },
   "outputs": [],
   "source": [
    "landsat = ee.ImageCollection(\"LANDSAT/LC08/C02/T1_L2\")\\\n",
    "            .filterBounds(poi)\\\n",
    "            .filterDate(start_date,end_date)"
   ]
  },
  {
   "cell_type": "code",
   "execution_count": null,
   "id": "0fcde3e1",
   "metadata": {
    "execution": {
     "iopub.execute_input": "2022-08-23T07:34:05.060415Z",
     "iopub.status.busy": "2022-08-23T07:34:05.059202Z",
     "iopub.status.idle": "2022-08-23T07:34:06.194676Z",
     "shell.execute_reply": "2022-08-23T07:34:06.193254Z",
     "shell.execute_reply.started": "2022-08-23T07:34:05.060371Z"
    },
    "papermill": {
     "duration": null,
     "end_time": null,
     "exception": null,
     "start_time": null,
     "status": "pending"
    },
    "tags": []
   },
   "outputs": [],
   "source": [
    "print('Total number:', landsat.size().getInfo())"
   ]
  },
  {
   "cell_type": "code",
   "execution_count": null,
   "id": "ec97c33d",
   "metadata": {
    "execution": {
     "iopub.execute_input": "2022-08-23T07:34:09.429093Z",
     "iopub.status.busy": "2022-08-23T07:34:09.427812Z",
     "iopub.status.idle": "2022-08-23T07:34:09.694893Z",
     "shell.execute_reply": "2022-08-23T07:34:09.693665Z",
     "shell.execute_reply.started": "2022-08-23T07:34:09.429040Z"
    },
    "papermill": {
     "duration": null,
     "end_time": null,
     "exception": null,
     "start_time": null,
     "status": "pending"
    },
    "tags": []
   },
   "outputs": [],
   "source": [
    "#information about the firsr image in our collection\n",
    "landsat.first().getInfo()"
   ]
  },
  {
   "cell_type": "code",
   "execution_count": null,
   "id": "de6423a3",
   "metadata": {
    "execution": {
     "iopub.execute_input": "2022-08-23T07:34:16.944148Z",
     "iopub.status.busy": "2022-08-23T07:34:16.943693Z",
     "iopub.status.idle": "2022-08-23T07:34:17.191429Z",
     "shell.execute_reply": "2022-08-23T07:34:17.190256Z",
     "shell.execute_reply.started": "2022-08-23T07:34:16.944110Z"
    },
    "papermill": {
     "duration": null,
     "end_time": null,
     "exception": null,
     "start_time": null,
     "status": "pending"
    },
    "tags": []
   },
   "outputs": [],
   "source": [
    "#what about cloud of our first image ?\n",
    "landsat.first().get('CLOUD_COVER').getInfo()"
   ]
  },
  {
   "cell_type": "code",
   "execution_count": null,
   "id": "cfabf170",
   "metadata": {
    "execution": {
     "iopub.execute_input": "2022-08-23T07:34:19.489614Z",
     "iopub.status.busy": "2022-08-23T07:34:19.488624Z",
     "iopub.status.idle": "2022-08-23T07:34:19.731171Z",
     "shell.execute_reply": "2022-08-23T07:34:19.729859Z",
     "shell.execute_reply.started": "2022-08-23T07:34:19.489569Z"
    },
    "papermill": {
     "duration": null,
     "end_time": null,
     "exception": null,
     "start_time": null,
     "status": "pending"
    },
    "tags": []
   },
   "outputs": [],
   "source": [
    "# when was this image taken ? \n",
    "landsat.first().get('DATE_ACQUIRED').getInfo()"
   ]
  },
  {
   "cell_type": "code",
   "execution_count": null,
   "id": "d46f0383",
   "metadata": {
    "execution": {
     "iopub.execute_input": "2022-08-23T07:34:21.826296Z",
     "iopub.status.busy": "2022-08-23T07:34:21.825895Z",
     "iopub.status.idle": "2022-08-23T07:34:22.140360Z",
     "shell.execute_reply": "2022-08-23T07:34:22.139019Z",
     "shell.execute_reply.started": "2022-08-23T07:34:21.826263Z"
    },
    "papermill": {
     "duration": null,
     "end_time": null,
     "exception": null,
     "start_time": null,
     "status": "pending"
    },
    "tags": []
   },
   "outputs": [],
   "source": [
    "# what bands did we get ?\n",
    "landsat.first().bandNames().getInfo()"
   ]
  },
  {
   "cell_type": "code",
   "execution_count": null,
   "id": "99c06973",
   "metadata": {
    "execution": {
     "iopub.execute_input": "2022-08-23T07:34:24.944489Z",
     "iopub.status.busy": "2022-08-23T07:34:24.944086Z",
     "iopub.status.idle": "2022-08-23T07:34:24.949001Z",
     "shell.execute_reply": "2022-08-23T07:34:24.948014Z",
     "shell.execute_reply.started": "2022-08-23T07:34:24.944457Z"
    },
    "papermill": {
     "duration": null,
     "end_time": null,
     "exception": null,
     "start_time": null,
     "status": "pending"
    },
    "tags": []
   },
   "outputs": [],
   "source": [
    "# put the images in a list\n",
    "landsat_list = landsat.toList(landsat.size());"
   ]
  },
  {
   "cell_type": "code",
   "execution_count": null,
   "id": "3fd431ac",
   "metadata": {
    "execution": {
     "iopub.execute_input": "2022-08-23T07:34:28.194202Z",
     "iopub.status.busy": "2022-08-23T07:34:28.193143Z",
     "iopub.status.idle": "2022-08-23T07:34:28.199061Z",
     "shell.execute_reply": "2022-08-23T07:34:28.198004Z",
     "shell.execute_reply.started": "2022-08-23T07:34:28.194153Z"
    },
    "papermill": {
     "duration": null,
     "end_time": null,
     "exception": null,
     "start_time": null,
     "status": "pending"
    },
    "tags": []
   },
   "outputs": [],
   "source": [
    "# set some parameters for the images\n",
    "parameters = {\n",
    "                'min': 7000,\n",
    "                'max': 16000,\n",
    "                'dimensions': 800, # square size in pixels\n",
    "                'bands': ['SR_B4', 'SR_B3', 'SR_B2'] # bands to display (r,g,b)\n",
    "             }"
   ]
  },
  {
   "cell_type": "code",
   "execution_count": null,
   "id": "51e08938",
   "metadata": {
    "execution": {
     "iopub.execute_input": "2022-08-23T07:34:31.827614Z",
     "iopub.status.busy": "2022-08-23T07:34:31.826555Z",
     "iopub.status.idle": "2022-08-23T07:34:47.185917Z",
     "shell.execute_reply": "2022-08-23T07:34:47.184442Z",
     "shell.execute_reply.started": "2022-08-23T07:34:31.827569Z"
    },
    "papermill": {
     "duration": null,
     "end_time": null,
     "exception": null,
     "start_time": null,
     "status": "pending"
    },
    "tags": []
   },
   "outputs": [],
   "source": [
    "#create an empty data container \n",
    "data = []\n",
    "\n",
    "# loop through each image and display it\n",
    "for i in range(landsat.size().getInfo()):\n",
    "    \n",
    "    # when was this image taken?\n",
    "    date = ee.Image(landsat_list.get(i)).get('DATE_ACQUIRED').getInfo()\n",
    "    \n",
    "    #cloudcover\n",
    "    cloud = ee.Image(landsat_list.get(i)).get('CLOUD_COVER').getInfo()\n",
    "    \n",
    "    #print the image info\n",
    "    print('Image #',i,date,'Cloud cover:',cloud)\n",
    "    \n",
    "    #display the image \n",
    "    display(Image(url = ee.Image(landsat_list.get(i)).getThumbUrl(parameters)))\n",
    "    \n",
    "    \n",
    "    #data to list \n",
    "    this_data = [i,date,cloud]\n",
    "    \n",
    "    # append the data\n",
    "    data.append(this_data)\n",
    "\n",
    " #create the pandas DataFrame\n",
    "\n",
    "df = pd.DataFrame(data,columns=['Image #','Date','Cloud Cover'])"
   ]
  },
  {
   "cell_type": "code",
   "execution_count": null,
   "id": "ffc61674",
   "metadata": {
    "execution": {
     "iopub.execute_input": "2022-08-23T07:35:37.665098Z",
     "iopub.status.busy": "2022-08-23T07:35:37.664707Z",
     "iopub.status.idle": "2022-08-23T07:35:37.685633Z",
     "shell.execute_reply": "2022-08-23T07:35:37.684746Z",
     "shell.execute_reply.started": "2022-08-23T07:35:37.665066Z"
    },
    "papermill": {
     "duration": null,
     "end_time": null,
     "exception": null,
     "start_time": null,
     "status": "pending"
    },
    "tags": []
   },
   "outputs": [],
   "source": [
    "df"
   ]
  },
  {
   "cell_type": "code",
   "execution_count": null,
   "id": "a72c8a07",
   "metadata": {
    "execution": {
     "iopub.execute_input": "2022-08-23T07:38:25.881657Z",
     "iopub.status.busy": "2022-08-23T07:38:25.881248Z",
     "iopub.status.idle": "2022-08-23T07:38:25.886701Z",
     "shell.execute_reply": "2022-08-23T07:38:25.885447Z",
     "shell.execute_reply.started": "2022-08-23T07:38:25.881624Z"
    },
    "papermill": {
     "duration": null,
     "end_time": null,
     "exception": null,
     "start_time": null,
     "status": "pending"
    },
    "tags": []
   },
   "outputs": [],
   "source": [
    "# create a list of images we want (before,during,after)\n",
    "landsat_sequence = [3,4,5]"
   ]
  },
  {
   "cell_type": "code",
   "execution_count": null,
   "id": "d965394a",
   "metadata": {
    "execution": {
     "iopub.execute_input": "2022-08-23T07:38:40.934321Z",
     "iopub.status.busy": "2022-08-23T07:38:40.933924Z",
     "iopub.status.idle": "2022-08-23T07:38:40.939982Z",
     "shell.execute_reply": "2022-08-23T07:38:40.938740Z",
     "shell.execute_reply.started": "2022-08-23T07:38:40.934291Z"
    },
    "papermill": {
     "duration": null,
     "end_time": null,
     "exception": null,
     "start_time": null,
     "status": "pending"
    },
    "tags": []
   },
   "outputs": [],
   "source": [
    "# Define a region of interest with a buffer zone of 20 km \n",
    "roi = poi.buffer(20000) #meters"
   ]
  },
  {
   "cell_type": "code",
   "execution_count": null,
   "id": "16cb5112",
   "metadata": {
    "execution": {
     "iopub.execute_input": "2022-08-23T07:38:50.879475Z",
     "iopub.status.busy": "2022-08-23T07:38:50.878726Z",
     "iopub.status.idle": "2022-08-23T07:38:50.885818Z",
     "shell.execute_reply": "2022-08-23T07:38:50.884620Z",
     "shell.execute_reply.started": "2022-08-23T07:38:50.879434Z"
    },
    "papermill": {
     "duration": null,
     "end_time": null,
     "exception": null,
     "start_time": null,
     "status": "pending"
    },
    "tags": []
   },
   "outputs": [],
   "source": [
    "parameters = {\n",
    "              'min':6000,\n",
    "              'max':16000,\n",
    "              'dimensions':800,\n",
    "              'bands': ['SR_B4','SR_B3','SR_B2'],\n",
    "              'region':roi\n",
    "    \n",
    "             }"
   ]
  },
  {
   "cell_type": "code",
   "execution_count": null,
   "id": "90a20ee5",
   "metadata": {
    "execution": {
     "iopub.execute_input": "2022-08-23T07:39:02.961428Z",
     "iopub.status.busy": "2022-08-23T07:39:02.961015Z",
     "iopub.status.idle": "2022-08-23T07:39:08.130592Z",
     "shell.execute_reply": "2022-08-23T07:39:08.129527Z",
     "shell.execute_reply.started": "2022-08-23T07:39:02.961395Z"
    },
    "papermill": {
     "duration": null,
     "end_time": null,
     "exception": null,
     "start_time": null,
     "status": "pending"
    },
    "tags": []
   },
   "outputs": [],
   "source": [
    "for i in landsat_sequence:\n",
    "    #when was this image taken?\n",
    "    date = ee.Image(landsat_list.get(i)).get('DATE_ACQUIRED').getInfo()\n",
    "    \n",
    "    #cloudcover \n",
    "    cloud = ee.Image(landsat_list.get(i)).get('CLOUD_COVER').getInfo()\n",
    "    \n",
    "    print ('Image #',i,date,'Cloud cover',cloud)\n",
    "    display (Image(url = ee.Image(landsat_list.get(i)).getThumbUrl(parameters)))"
   ]
  },
  {
   "cell_type": "code",
   "execution_count": null,
   "id": "d0e96fe3",
   "metadata": {
    "execution": {
     "iopub.execute_input": "2022-08-23T07:40:46.066591Z",
     "iopub.status.busy": "2022-08-23T07:40:46.065503Z",
     "iopub.status.idle": "2022-08-23T07:40:46.072168Z",
     "shell.execute_reply": "2022-08-23T07:40:46.071262Z",
     "shell.execute_reply.started": "2022-08-23T07:40:46.066533Z"
    },
    "papermill": {
     "duration": null,
     "end_time": null,
     "exception": null,
     "start_time": null,
     "status": "pending"
    },
    "tags": []
   },
   "outputs": [],
   "source": [
    "# ndvi palette : red is low,green is high vegetation\n",
    "palette = ['red','yellow','green']\n",
    "\n",
    "ndvi_parameters = {'min':0,\n",
    "                  'max':0.4,\n",
    "                  'dimensions':512,\n",
    "                  'palette':palette,\n",
    "                  'region':roi}"
   ]
  },
  {
   "cell_type": "code",
   "execution_count": null,
   "id": "c7f2f415",
   "metadata": {
    "execution": {
     "iopub.execute_input": "2022-08-23T07:40:51.226112Z",
     "iopub.status.busy": "2022-08-23T07:40:51.225642Z",
     "iopub.status.idle": "2022-08-23T07:40:54.389417Z",
     "shell.execute_reply": "2022-08-23T07:40:54.388530Z",
     "shell.execute_reply.started": "2022-08-23T07:40:51.226071Z"
    },
    "papermill": {
     "duration": null,
     "end_time": null,
     "exception": null,
     "start_time": null,
     "status": "pending"
    },
    "tags": []
   },
   "outputs": [],
   "source": [
    "for i in landsat_sequence:\n",
    "    #when was this image taken ?\n",
    "    date = ee.Image(landsat_list.get(i)).get('DATE_ACQUIRED').getInfo()\n",
    "    \n",
    "    #print some information \n",
    "    print('Image #',i,date)\n",
    "    \n",
    "    #display the image\n",
    "    display(Image(url=ee.Image(landsat_list.get(i)).normalizedDifference(['SR_B5', 'SR_B4']).getThumbUrl(ndvi_parameters)))\n",
    "                  "
   ]
  },
  {
   "cell_type": "code",
   "execution_count": null,
   "id": "6548504e",
   "metadata": {
    "execution": {
     "iopub.execute_input": "2022-08-23T07:41:22.544974Z",
     "iopub.status.busy": "2022-08-23T07:41:22.544018Z",
     "iopub.status.idle": "2022-08-23T07:41:22.799759Z",
     "shell.execute_reply": "2022-08-23T07:41:22.798015Z",
     "shell.execute_reply.started": "2022-08-23T07:41:22.544921Z"
    },
    "papermill": {
     "duration": null,
     "end_time": null,
     "exception": null,
     "start_time": null,
     "status": "pending"
    },
    "tags": []
   },
   "outputs": [],
   "source": [
    "# a simple folium map\n",
    "import folium\n",
    "\n",
    "m = folium.Map(location=[lat,lon])\n",
    "m"
   ]
  },
  {
   "cell_type": "code",
   "execution_count": null,
   "id": "73c8471e",
   "metadata": {
    "execution": {
     "iopub.execute_input": "2022-08-23T07:41:41.910603Z",
     "iopub.status.busy": "2022-08-23T07:41:41.910185Z",
     "iopub.status.idle": "2022-08-23T07:41:41.917463Z",
     "shell.execute_reply": "2022-08-23T07:41:41.916292Z",
     "shell.execute_reply.started": "2022-08-23T07:41:41.910567Z"
    },
    "papermill": {
     "duration": null,
     "end_time": null,
     "exception": null,
     "start_time": null,
     "status": "pending"
    },
    "tags": []
   },
   "outputs": [],
   "source": [
    "# Google function that allows ee layers on folium\n",
    "def add_ee_layer(self, ee_image_object, vis_params, name):\n",
    "    \"\"\"Adds a method for displaying Earth Engine image tiles to folium map.\"\"\"\n",
    "    map_id_dict = ee.Image(ee_image_object).getMapId(vis_params)\n",
    "    folium.raster_layers.TileLayer(\n",
    "        tiles=map_id_dict['tile_fetcher'].url_format,\n",
    "        attr='Map Data &copy; <a href=\"https://earthengine.google.com/\">Google Earth Engine</a>',\n",
    "        name=name,\n",
    "        overlay=True,\n",
    "        control=True\n",
    "    ).add_to(self)\n",
    "\n",
    "# Add Earth Engine drawing method to folium\n",
    "folium.Map.add_ee_layer = add_ee_layer"
   ]
  },
  {
   "cell_type": "code",
   "execution_count": null,
   "id": "08897498",
   "metadata": {
    "execution": {
     "iopub.execute_input": "2022-08-23T07:41:54.038224Z",
     "iopub.status.busy": "2022-08-23T07:41:54.037544Z",
     "iopub.status.idle": "2022-08-23T07:41:57.718862Z",
     "shell.execute_reply": "2022-08-23T07:41:57.717684Z",
     "shell.execute_reply.started": "2022-08-23T07:41:54.038170Z"
    },
    "papermill": {
     "duration": null,
     "end_time": null,
     "exception": null,
     "start_time": null,
     "status": "pending"
    },
    "tags": []
   },
   "outputs": [],
   "source": [
    "# Create a map\n",
    "my_map = folium.Map(location=[lat, lon], zoom_start=10)\n",
    "\n",
    "# Add a layer for each satellite image of interest (before, during and after)\n",
    "for i in landsat_sequence:\n",
    "\n",
    "    # when was this image taken?\n",
    "    date = ee.Image(landsat_list.get(i)).get('DATE_ACQUIRED').getInfo()\n",
    "\n",
    "    my_map.add_ee_layer(ee.Image(landsat_list.get(i)).normalizedDifference(['SR_B5', 'SR_B4']), \n",
    "                        ndvi_parameters, \n",
    "                        name=date)\n",
    "    \n",
    "# Add a layer control panel to the map\n",
    "folium.LayerControl(collapsed = False).add_to(my_map)\n",
    "\n",
    "# Display the map.\n",
    "display(my_map)"
   ]
  },
  {
   "cell_type": "code",
   "execution_count": null,
   "id": "2900be1e",
   "metadata": {
    "papermill": {
     "duration": null,
     "end_time": null,
     "exception": null,
     "start_time": null,
     "status": "pending"
    },
    "tags": []
   },
   "outputs": [],
   "source": []
  }
 ],
 "metadata": {
  "kernelspec": {
   "display_name": "Python 3",
   "language": "python",
   "name": "python3"
  },
  "language_info": {
   "codemirror_mode": {
    "name": "ipython",
    "version": 3
   },
   "file_extension": ".py",
   "mimetype": "text/x-python",
   "name": "python",
   "nbconvert_exporter": "python",
   "pygments_lexer": "ipython3",
   "version": "3.7.12"
  },
  "papermill": {
   "default_parameters": {},
   "duration": 9.548694,
   "end_time": "2023-02-05T17:26:49.586751",
   "environment_variables": {},
   "exception": true,
   "input_path": "__notebook__.ipynb",
   "output_path": "__notebook__.ipynb",
   "parameters": {},
   "start_time": "2023-02-05T17:26:40.038057",
   "version": "2.3.4"
  }
 },
 "nbformat": 4,
 "nbformat_minor": 5
}
